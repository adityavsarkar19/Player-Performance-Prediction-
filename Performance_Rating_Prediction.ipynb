{
  "nbformat": 4,
  "nbformat_minor": 0,
  "metadata": {
    "colab": {
      "name": "Performance Rating Prediction.ipynb",
      "provenance": [],
      "collapsed_sections": [],
      "authorship_tag": "ABX9TyM/9wIl8tsDw41nV5tF/KZy",
      "include_colab_link": true
    },
    "kernelspec": {
      "name": "python3",
      "display_name": "Python 3"
    },
    "language_info": {
      "name": "python"
    }
  },
  "cells": [
    {
      "cell_type": "markdown",
      "metadata": {
        "id": "view-in-github",
        "colab_type": "text"
      },
      "source": [
        "<a href=\"https://colab.research.google.com/github/adityavsarkar19/Player-Performance-Prediction-/blob/main/Performance_Rating_Prediction.ipynb\" target=\"_parent\"><img src=\"https://colab.research.google.com/assets/colab-badge.svg\" alt=\"Open In Colab\"/></a>"
      ]
    },
    {
      "cell_type": "markdown",
      "source": [
        "# Understanding The Dataset\n"
      ],
      "metadata": {
        "id": "cwtoUeQlPTnZ"
      }
    },
    {
      "cell_type": "code",
      "source": [
        "#Loading the Datasets\n",
        "\n",
        "import numpy as np\n",
        "import pandas as pd \n",
        "\n",
        "train = pd.read_csv(\"/content/train.csv\") #dataset source: https://www.kaggle.com/datasets/arnabchaki/player-performance-assessment?select=test.csv\n",
        "test = pd.read_csv(\"/content/test.csv\")"
      ],
      "metadata": {
        "id": "Rk1WPRZxd12U"
      },
      "execution_count": 3,
      "outputs": []
    },
    {
      "cell_type": "code",
      "source": [
        "train\n"
      ],
      "metadata": {
        "colab": {
          "base_uri": "https://localhost:8080/",
          "height": 488
        },
        "id": "olYKmhabVTWb",
        "outputId": "774e4d60-f521-4270-c137-16a5557a50c1"
      },
      "execution_count": 4,
      "outputs": [
        {
          "output_type": "execute_result",
          "data": {
            "text/plain": [
              "       row_id  scout_id  rating_num  winner   team  competitionId  \\\n",
              "0           1        13         7.0  winner  team1              8   \n",
              "1           3        16         6.5   loser  team2              8   \n",
              "2           4         4         8.5   loser  team1              5   \n",
              "3           5        13         8.0   loser  team2              4   \n",
              "4           7        11         3.5    draw  team1              5   \n",
              "...       ...       ...         ...     ...    ...            ...   \n",
              "20448   29221        14         5.0    draw  team2             14   \n",
              "20449   29223         3         6.0  winner  team2             11   \n",
              "20450   29224         4         5.0   loser  team1              7   \n",
              "20451   29226        13         6.0   loser  team1              8   \n",
              "20452   29227         4         6.0  winner  team2              4   \n",
              "\n",
              "       player_position_1  player_position_2  player_height  player_weight  \\\n",
              "0                    7.0                7.0       0.317073           0.48   \n",
              "1                    3.0                9.0       0.463415           0.42   \n",
              "2                   11.0               11.0       0.682927           0.44   \n",
              "3                   17.0               17.0       0.682927           0.58   \n",
              "4                   10.0               10.0       0.731707           0.70   \n",
              "...                  ...                ...            ...            ...   \n",
              "20448                NaN                NaN       0.439024           0.26   \n",
              "20449                4.0                4.0       0.390244           0.32   \n",
              "20450                5.0                5.0       0.268293           0.30   \n",
              "20451                5.0                5.0       0.463415           0.46   \n",
              "20452                4.0                4.0       0.585366           0.36   \n",
              "\n",
              "       ...  team2_defensive_derived_var_10  team2_offensive_derived_var_11  \\\n",
              "0      ...                        0.193658                        0.131548   \n",
              "1      ...                        0.190500                        0.173697   \n",
              "2      ...                        0.312314                        0.250756   \n",
              "3      ...                        0.282556                        0.155969   \n",
              "4      ...                        0.450453                        0.199050   \n",
              "...    ...                             ...                             ...   \n",
              "20448  ...                             NaN                             NaN   \n",
              "20449  ...                        0.362193                        0.240326   \n",
              "20450  ...                        0.341322                        0.248870   \n",
              "20451  ...                        0.215831                        0.190395   \n",
              "20452  ...                        0.404569                        0.229025   \n",
              "\n",
              "       team2_offensive_derived_var_12  team2_offensive_derived_var_13  \\\n",
              "0                            0.097131                        0.600944   \n",
              "1                            0.272801                        0.605659   \n",
              "2                            0.212631                        0.558833   \n",
              "3                            0.206503                        0.533002   \n",
              "4                            0.134002                        0.688773   \n",
              "...                               ...                             ...   \n",
              "20448                             NaN                             NaN   \n",
              "20449                        0.369752                        0.438649   \n",
              "20450                        0.240096                        0.515025   \n",
              "20451                        0.207007                        0.631279   \n",
              "20452                        0.138451                        0.746928   \n",
              "\n",
              "       team2_offensive_derived_var_14  team2_defensive_derived_var_15  \\\n",
              "0                            0.338892                        0.347980   \n",
              "1                            0.526761                        0.468976   \n",
              "2                            0.686523                        0.441749   \n",
              "3                            0.373959                        0.527733   \n",
              "4                            0.681724                        0.733625   \n",
              "...                               ...                             ...   \n",
              "20448                             NaN                             NaN   \n",
              "20449                        0.381099                        0.264074   \n",
              "20450                        0.694587                        0.869000   \n",
              "20451                        0.330606                        0.322158   \n",
              "20452                        0.512851                        0.544212   \n",
              "\n",
              "       team2_offensive_derived_var_16  team2_defensive_derived_var_17  \\\n",
              "0                            0.034157                        0.288962   \n",
              "1                            0.054034                        0.334962   \n",
              "2                            0.219441                        0.414288   \n",
              "3                            0.095201                        0.423040   \n",
              "4                            0.128719                        0.448360   \n",
              "...                               ...                             ...   \n",
              "20448                             NaN                             NaN   \n",
              "20449                        0.171927                        0.422975   \n",
              "20450                        0.296820                        0.511550   \n",
              "20451                        0.108018                        0.333229   \n",
              "20452                        0.086429                        0.446098   \n",
              "\n",
              "       team2_offensive_derived_var_18  team2_offensive_derived_var_19  \n",
              "0                            0.310727                        0.204925  \n",
              "1                            0.380073                        0.295392  \n",
              "2                            0.570757                        0.437500  \n",
              "3                            0.330754                        0.235558  \n",
              "4                            0.444946                        0.312500  \n",
              "...                               ...                             ...  \n",
              "20448                             NaN                             NaN  \n",
              "20449                        0.588501                        0.534694  \n",
              "20450                        0.548315                        0.385927  \n",
              "20451                        0.349177                        0.458685  \n",
              "20452                        0.347572                        0.329782  \n",
              "\n",
              "[20453 rows x 800 columns]"
            ],
            "text/html": [
              "\n",
              "  <div id=\"df-06124ff3-b7f6-4ab0-b34c-979e1303c8eb\">\n",
              "    <div class=\"colab-df-container\">\n",
              "      <div>\n",
              "<style scoped>\n",
              "    .dataframe tbody tr th:only-of-type {\n",
              "        vertical-align: middle;\n",
              "    }\n",
              "\n",
              "    .dataframe tbody tr th {\n",
              "        vertical-align: top;\n",
              "    }\n",
              "\n",
              "    .dataframe thead th {\n",
              "        text-align: right;\n",
              "    }\n",
              "</style>\n",
              "<table border=\"1\" class=\"dataframe\">\n",
              "  <thead>\n",
              "    <tr style=\"text-align: right;\">\n",
              "      <th></th>\n",
              "      <th>row_id</th>\n",
              "      <th>scout_id</th>\n",
              "      <th>rating_num</th>\n",
              "      <th>winner</th>\n",
              "      <th>team</th>\n",
              "      <th>competitionId</th>\n",
              "      <th>player_position_1</th>\n",
              "      <th>player_position_2</th>\n",
              "      <th>player_height</th>\n",
              "      <th>player_weight</th>\n",
              "      <th>...</th>\n",
              "      <th>team2_defensive_derived_var_10</th>\n",
              "      <th>team2_offensive_derived_var_11</th>\n",
              "      <th>team2_offensive_derived_var_12</th>\n",
              "      <th>team2_offensive_derived_var_13</th>\n",
              "      <th>team2_offensive_derived_var_14</th>\n",
              "      <th>team2_defensive_derived_var_15</th>\n",
              "      <th>team2_offensive_derived_var_16</th>\n",
              "      <th>team2_defensive_derived_var_17</th>\n",
              "      <th>team2_offensive_derived_var_18</th>\n",
              "      <th>team2_offensive_derived_var_19</th>\n",
              "    </tr>\n",
              "  </thead>\n",
              "  <tbody>\n",
              "    <tr>\n",
              "      <th>0</th>\n",
              "      <td>1</td>\n",
              "      <td>13</td>\n",
              "      <td>7.0</td>\n",
              "      <td>winner</td>\n",
              "      <td>team1</td>\n",
              "      <td>8</td>\n",
              "      <td>7.0</td>\n",
              "      <td>7.0</td>\n",
              "      <td>0.317073</td>\n",
              "      <td>0.48</td>\n",
              "      <td>...</td>\n",
              "      <td>0.193658</td>\n",
              "      <td>0.131548</td>\n",
              "      <td>0.097131</td>\n",
              "      <td>0.600944</td>\n",
              "      <td>0.338892</td>\n",
              "      <td>0.347980</td>\n",
              "      <td>0.034157</td>\n",
              "      <td>0.288962</td>\n",
              "      <td>0.310727</td>\n",
              "      <td>0.204925</td>\n",
              "    </tr>\n",
              "    <tr>\n",
              "      <th>1</th>\n",
              "      <td>3</td>\n",
              "      <td>16</td>\n",
              "      <td>6.5</td>\n",
              "      <td>loser</td>\n",
              "      <td>team2</td>\n",
              "      <td>8</td>\n",
              "      <td>3.0</td>\n",
              "      <td>9.0</td>\n",
              "      <td>0.463415</td>\n",
              "      <td>0.42</td>\n",
              "      <td>...</td>\n",
              "      <td>0.190500</td>\n",
              "      <td>0.173697</td>\n",
              "      <td>0.272801</td>\n",
              "      <td>0.605659</td>\n",
              "      <td>0.526761</td>\n",
              "      <td>0.468976</td>\n",
              "      <td>0.054034</td>\n",
              "      <td>0.334962</td>\n",
              "      <td>0.380073</td>\n",
              "      <td>0.295392</td>\n",
              "    </tr>\n",
              "    <tr>\n",
              "      <th>2</th>\n",
              "      <td>4</td>\n",
              "      <td>4</td>\n",
              "      <td>8.5</td>\n",
              "      <td>loser</td>\n",
              "      <td>team1</td>\n",
              "      <td>5</td>\n",
              "      <td>11.0</td>\n",
              "      <td>11.0</td>\n",
              "      <td>0.682927</td>\n",
              "      <td>0.44</td>\n",
              "      <td>...</td>\n",
              "      <td>0.312314</td>\n",
              "      <td>0.250756</td>\n",
              "      <td>0.212631</td>\n",
              "      <td>0.558833</td>\n",
              "      <td>0.686523</td>\n",
              "      <td>0.441749</td>\n",
              "      <td>0.219441</td>\n",
              "      <td>0.414288</td>\n",
              "      <td>0.570757</td>\n",
              "      <td>0.437500</td>\n",
              "    </tr>\n",
              "    <tr>\n",
              "      <th>3</th>\n",
              "      <td>5</td>\n",
              "      <td>13</td>\n",
              "      <td>8.0</td>\n",
              "      <td>loser</td>\n",
              "      <td>team2</td>\n",
              "      <td>4</td>\n",
              "      <td>17.0</td>\n",
              "      <td>17.0</td>\n",
              "      <td>0.682927</td>\n",
              "      <td>0.58</td>\n",
              "      <td>...</td>\n",
              "      <td>0.282556</td>\n",
              "      <td>0.155969</td>\n",
              "      <td>0.206503</td>\n",
              "      <td>0.533002</td>\n",
              "      <td>0.373959</td>\n",
              "      <td>0.527733</td>\n",
              "      <td>0.095201</td>\n",
              "      <td>0.423040</td>\n",
              "      <td>0.330754</td>\n",
              "      <td>0.235558</td>\n",
              "    </tr>\n",
              "    <tr>\n",
              "      <th>4</th>\n",
              "      <td>7</td>\n",
              "      <td>11</td>\n",
              "      <td>3.5</td>\n",
              "      <td>draw</td>\n",
              "      <td>team1</td>\n",
              "      <td>5</td>\n",
              "      <td>10.0</td>\n",
              "      <td>10.0</td>\n",
              "      <td>0.731707</td>\n",
              "      <td>0.70</td>\n",
              "      <td>...</td>\n",
              "      <td>0.450453</td>\n",
              "      <td>0.199050</td>\n",
              "      <td>0.134002</td>\n",
              "      <td>0.688773</td>\n",
              "      <td>0.681724</td>\n",
              "      <td>0.733625</td>\n",
              "      <td>0.128719</td>\n",
              "      <td>0.448360</td>\n",
              "      <td>0.444946</td>\n",
              "      <td>0.312500</td>\n",
              "    </tr>\n",
              "    <tr>\n",
              "      <th>...</th>\n",
              "      <td>...</td>\n",
              "      <td>...</td>\n",
              "      <td>...</td>\n",
              "      <td>...</td>\n",
              "      <td>...</td>\n",
              "      <td>...</td>\n",
              "      <td>...</td>\n",
              "      <td>...</td>\n",
              "      <td>...</td>\n",
              "      <td>...</td>\n",
              "      <td>...</td>\n",
              "      <td>...</td>\n",
              "      <td>...</td>\n",
              "      <td>...</td>\n",
              "      <td>...</td>\n",
              "      <td>...</td>\n",
              "      <td>...</td>\n",
              "      <td>...</td>\n",
              "      <td>...</td>\n",
              "      <td>...</td>\n",
              "      <td>...</td>\n",
              "    </tr>\n",
              "    <tr>\n",
              "      <th>20448</th>\n",
              "      <td>29221</td>\n",
              "      <td>14</td>\n",
              "      <td>5.0</td>\n",
              "      <td>draw</td>\n",
              "      <td>team2</td>\n",
              "      <td>14</td>\n",
              "      <td>NaN</td>\n",
              "      <td>NaN</td>\n",
              "      <td>0.439024</td>\n",
              "      <td>0.26</td>\n",
              "      <td>...</td>\n",
              "      <td>NaN</td>\n",
              "      <td>NaN</td>\n",
              "      <td>NaN</td>\n",
              "      <td>NaN</td>\n",
              "      <td>NaN</td>\n",
              "      <td>NaN</td>\n",
              "      <td>NaN</td>\n",
              "      <td>NaN</td>\n",
              "      <td>NaN</td>\n",
              "      <td>NaN</td>\n",
              "    </tr>\n",
              "    <tr>\n",
              "      <th>20449</th>\n",
              "      <td>29223</td>\n",
              "      <td>3</td>\n",
              "      <td>6.0</td>\n",
              "      <td>winner</td>\n",
              "      <td>team2</td>\n",
              "      <td>11</td>\n",
              "      <td>4.0</td>\n",
              "      <td>4.0</td>\n",
              "      <td>0.390244</td>\n",
              "      <td>0.32</td>\n",
              "      <td>...</td>\n",
              "      <td>0.362193</td>\n",
              "      <td>0.240326</td>\n",
              "      <td>0.369752</td>\n",
              "      <td>0.438649</td>\n",
              "      <td>0.381099</td>\n",
              "      <td>0.264074</td>\n",
              "      <td>0.171927</td>\n",
              "      <td>0.422975</td>\n",
              "      <td>0.588501</td>\n",
              "      <td>0.534694</td>\n",
              "    </tr>\n",
              "    <tr>\n",
              "      <th>20450</th>\n",
              "      <td>29224</td>\n",
              "      <td>4</td>\n",
              "      <td>5.0</td>\n",
              "      <td>loser</td>\n",
              "      <td>team1</td>\n",
              "      <td>7</td>\n",
              "      <td>5.0</td>\n",
              "      <td>5.0</td>\n",
              "      <td>0.268293</td>\n",
              "      <td>0.30</td>\n",
              "      <td>...</td>\n",
              "      <td>0.341322</td>\n",
              "      <td>0.248870</td>\n",
              "      <td>0.240096</td>\n",
              "      <td>0.515025</td>\n",
              "      <td>0.694587</td>\n",
              "      <td>0.869000</td>\n",
              "      <td>0.296820</td>\n",
              "      <td>0.511550</td>\n",
              "      <td>0.548315</td>\n",
              "      <td>0.385927</td>\n",
              "    </tr>\n",
              "    <tr>\n",
              "      <th>20451</th>\n",
              "      <td>29226</td>\n",
              "      <td>13</td>\n",
              "      <td>6.0</td>\n",
              "      <td>loser</td>\n",
              "      <td>team1</td>\n",
              "      <td>8</td>\n",
              "      <td>5.0</td>\n",
              "      <td>5.0</td>\n",
              "      <td>0.463415</td>\n",
              "      <td>0.46</td>\n",
              "      <td>...</td>\n",
              "      <td>0.215831</td>\n",
              "      <td>0.190395</td>\n",
              "      <td>0.207007</td>\n",
              "      <td>0.631279</td>\n",
              "      <td>0.330606</td>\n",
              "      <td>0.322158</td>\n",
              "      <td>0.108018</td>\n",
              "      <td>0.333229</td>\n",
              "      <td>0.349177</td>\n",
              "      <td>0.458685</td>\n",
              "    </tr>\n",
              "    <tr>\n",
              "      <th>20452</th>\n",
              "      <td>29227</td>\n",
              "      <td>4</td>\n",
              "      <td>6.0</td>\n",
              "      <td>winner</td>\n",
              "      <td>team2</td>\n",
              "      <td>4</td>\n",
              "      <td>4.0</td>\n",
              "      <td>4.0</td>\n",
              "      <td>0.585366</td>\n",
              "      <td>0.36</td>\n",
              "      <td>...</td>\n",
              "      <td>0.404569</td>\n",
              "      <td>0.229025</td>\n",
              "      <td>0.138451</td>\n",
              "      <td>0.746928</td>\n",
              "      <td>0.512851</td>\n",
              "      <td>0.544212</td>\n",
              "      <td>0.086429</td>\n",
              "      <td>0.446098</td>\n",
              "      <td>0.347572</td>\n",
              "      <td>0.329782</td>\n",
              "    </tr>\n",
              "  </tbody>\n",
              "</table>\n",
              "<p>20453 rows × 800 columns</p>\n",
              "</div>\n",
              "      <button class=\"colab-df-convert\" onclick=\"convertToInteractive('df-06124ff3-b7f6-4ab0-b34c-979e1303c8eb')\"\n",
              "              title=\"Convert this dataframe to an interactive table.\"\n",
              "              style=\"display:none;\">\n",
              "        \n",
              "  <svg xmlns=\"http://www.w3.org/2000/svg\" height=\"24px\"viewBox=\"0 0 24 24\"\n",
              "       width=\"24px\">\n",
              "    <path d=\"M0 0h24v24H0V0z\" fill=\"none\"/>\n",
              "    <path d=\"M18.56 5.44l.94 2.06.94-2.06 2.06-.94-2.06-.94-.94-2.06-.94 2.06-2.06.94zm-11 1L8.5 8.5l.94-2.06 2.06-.94-2.06-.94L8.5 2.5l-.94 2.06-2.06.94zm10 10l.94 2.06.94-2.06 2.06-.94-2.06-.94-.94-2.06-.94 2.06-2.06.94z\"/><path d=\"M17.41 7.96l-1.37-1.37c-.4-.4-.92-.59-1.43-.59-.52 0-1.04.2-1.43.59L10.3 9.45l-7.72 7.72c-.78.78-.78 2.05 0 2.83L4 21.41c.39.39.9.59 1.41.59.51 0 1.02-.2 1.41-.59l7.78-7.78 2.81-2.81c.8-.78.8-2.07 0-2.86zM5.41 20L4 18.59l7.72-7.72 1.47 1.35L5.41 20z\"/>\n",
              "  </svg>\n",
              "      </button>\n",
              "      \n",
              "  <style>\n",
              "    .colab-df-container {\n",
              "      display:flex;\n",
              "      flex-wrap:wrap;\n",
              "      gap: 12px;\n",
              "    }\n",
              "\n",
              "    .colab-df-convert {\n",
              "      background-color: #E8F0FE;\n",
              "      border: none;\n",
              "      border-radius: 50%;\n",
              "      cursor: pointer;\n",
              "      display: none;\n",
              "      fill: #1967D2;\n",
              "      height: 32px;\n",
              "      padding: 0 0 0 0;\n",
              "      width: 32px;\n",
              "    }\n",
              "\n",
              "    .colab-df-convert:hover {\n",
              "      background-color: #E2EBFA;\n",
              "      box-shadow: 0px 1px 2px rgba(60, 64, 67, 0.3), 0px 1px 3px 1px rgba(60, 64, 67, 0.15);\n",
              "      fill: #174EA6;\n",
              "    }\n",
              "\n",
              "    [theme=dark] .colab-df-convert {\n",
              "      background-color: #3B4455;\n",
              "      fill: #D2E3FC;\n",
              "    }\n",
              "\n",
              "    [theme=dark] .colab-df-convert:hover {\n",
              "      background-color: #434B5C;\n",
              "      box-shadow: 0px 1px 3px 1px rgba(0, 0, 0, 0.15);\n",
              "      filter: drop-shadow(0px 1px 2px rgba(0, 0, 0, 0.3));\n",
              "      fill: #FFFFFF;\n",
              "    }\n",
              "  </style>\n",
              "\n",
              "      <script>\n",
              "        const buttonEl =\n",
              "          document.querySelector('#df-06124ff3-b7f6-4ab0-b34c-979e1303c8eb button.colab-df-convert');\n",
              "        buttonEl.style.display =\n",
              "          google.colab.kernel.accessAllowed ? 'block' : 'none';\n",
              "\n",
              "        async function convertToInteractive(key) {\n",
              "          const element = document.querySelector('#df-06124ff3-b7f6-4ab0-b34c-979e1303c8eb');\n",
              "          const dataTable =\n",
              "            await google.colab.kernel.invokeFunction('convertToInteractive',\n",
              "                                                     [key], {});\n",
              "          if (!dataTable) return;\n",
              "\n",
              "          const docLinkHtml = 'Like what you see? Visit the ' +\n",
              "            '<a target=\"_blank\" href=https://colab.research.google.com/notebooks/data_table.ipynb>data table notebook</a>'\n",
              "            + ' to learn more about interactive tables.';\n",
              "          element.innerHTML = '';\n",
              "          dataTable['output_type'] = 'display_data';\n",
              "          await google.colab.output.renderOutput(dataTable, element);\n",
              "          const docLink = document.createElement('div');\n",
              "          docLink.innerHTML = docLinkHtml;\n",
              "          element.appendChild(docLink);\n",
              "        }\n",
              "      </script>\n",
              "    </div>\n",
              "  </div>\n",
              "  "
            ]
          },
          "metadata": {},
          "execution_count": 4
        }
      ]
    },
    {
      "cell_type": "markdown",
      "source": [
        ""
      ],
      "metadata": {
        "id": "xrHwdH7ePgSA"
      }
    },
    {
      "cell_type": "code",
      "metadata": {
        "id": "zFGKL45LO8Tt",
        "colab": {
          "base_uri": "https://localhost:8080/",
          "height": 488
        },
        "outputId": "81a5f475-e4d9-4747-e074-04b1cb004242"
      },
      "source": [
        "# Generate a correlation matrix.\n",
        "train.corr()\n",
        "\n",
        "#too many columns to evaluate "
      ],
      "execution_count": null,
      "outputs": [
        {
          "output_type": "execute_result",
          "data": {
            "text/plain": [
              "                                  row_id  scout_id  rating_num  competitionId  \\\n",
              "row_id                          1.000000  0.017885   -0.167852       0.032443   \n",
              "scout_id                        0.017885  1.000000    0.013590       0.041903   \n",
              "rating_num                     -0.167852  0.013590    1.000000      -0.068516   \n",
              "competitionId                   0.032443  0.041903   -0.068516       1.000000   \n",
              "player_position_1               0.003965 -0.010558    0.019457      -0.002132   \n",
              "...                                  ...       ...         ...            ...   \n",
              "team2_defensive_derived_var_15 -0.002126  0.013332    0.010867       0.014912   \n",
              "team2_offensive_derived_var_16 -0.009874 -0.003362    0.025713       0.000775   \n",
              "team2_defensive_derived_var_17 -0.005428  0.027326    0.016586      -0.019079   \n",
              "team2_offensive_derived_var_18 -0.008082  0.033307    0.033952       0.196055   \n",
              "team2_offensive_derived_var_19  0.026936  0.020558   -0.011991      -0.018709   \n",
              "\n",
              "                                player_position_1  player_position_2  \\\n",
              "row_id                                   0.003965           0.005554   \n",
              "scout_id                                -0.010558          -0.007104   \n",
              "rating_num                               0.019457           0.022495   \n",
              "competitionId                           -0.002132          -0.007870   \n",
              "player_position_1                        1.000000           0.954262   \n",
              "...                                           ...                ...   \n",
              "team2_defensive_derived_var_15           0.001327          -0.004716   \n",
              "team2_offensive_derived_var_16           0.005485           0.000884   \n",
              "team2_defensive_derived_var_17           0.014589           0.010171   \n",
              "team2_offensive_derived_var_18          -0.011718          -0.013271   \n",
              "team2_offensive_derived_var_19           0.007915           0.007245   \n",
              "\n",
              "                                player_height  player_weight  \\\n",
              "row_id                              -0.012078      -0.010551   \n",
              "scout_id                            -0.021856      -0.038816   \n",
              "rating_num                          -0.014785      -0.053880   \n",
              "competitionId                        0.010574      -0.011889   \n",
              "player_position_1                   -0.080985      -0.040299   \n",
              "...                                       ...            ...   \n",
              "team2_defensive_derived_var_15       0.014221       0.018672   \n",
              "team2_offensive_derived_var_16      -0.000046       0.014069   \n",
              "team2_defensive_derived_var_17       0.018884       0.011171   \n",
              "team2_offensive_derived_var_18      -0.006083       0.002757   \n",
              "team2_offensive_derived_var_19       0.015275       0.008360   \n",
              "\n",
              "                                player_general_var_0  player_general_var_1  \\\n",
              "row_id                                     -0.037521              0.001232   \n",
              "scout_id                                    0.003574             -0.003382   \n",
              "rating_num                                  0.117848             -0.020071   \n",
              "competitionId                               0.027847              0.000404   \n",
              "player_position_1                           0.130674             -0.030808   \n",
              "...                                              ...                   ...   \n",
              "team2_defensive_derived_var_15              0.016705             -0.004716   \n",
              "team2_offensive_derived_var_16              0.044370              0.005231   \n",
              "team2_defensive_derived_var_17             -0.019371             -0.011628   \n",
              "team2_offensive_derived_var_18              0.026901              0.002473   \n",
              "team2_offensive_derived_var_19             -0.013058             -0.004775   \n",
              "\n",
              "                                ...  team2_defensive_derived_var_10  \\\n",
              "row_id                          ...                        0.006372   \n",
              "scout_id                        ...                        0.007296   \n",
              "rating_num                      ...                        0.022215   \n",
              "competitionId                   ...                        0.022037   \n",
              "player_position_1               ...                       -0.010303   \n",
              "...                             ...                             ...   \n",
              "team2_defensive_derived_var_15  ...                        0.071105   \n",
              "team2_offensive_derived_var_16  ...                        0.075035   \n",
              "team2_defensive_derived_var_17  ...                       -0.163826   \n",
              "team2_offensive_derived_var_18  ...                       -0.021379   \n",
              "team2_offensive_derived_var_19  ...                       -0.068569   \n",
              "\n",
              "                                team2_offensive_derived_var_11  \\\n",
              "row_id                                               -0.016581   \n",
              "scout_id                                              0.007516   \n",
              "rating_num                                            0.028937   \n",
              "competitionId                                         0.025652   \n",
              "player_position_1                                    -0.000996   \n",
              "...                                                        ...   \n",
              "team2_defensive_derived_var_15                        0.237930   \n",
              "team2_offensive_derived_var_16                        0.741696   \n",
              "team2_defensive_derived_var_17                        0.051611   \n",
              "team2_offensive_derived_var_18                        0.369433   \n",
              "team2_offensive_derived_var_19                        0.137021   \n",
              "\n",
              "                                team2_offensive_derived_var_12  \\\n",
              "row_id                                               -0.009663   \n",
              "scout_id                                             -0.001189   \n",
              "rating_num                                            0.019037   \n",
              "competitionId                                         0.048990   \n",
              "player_position_1                                     0.010647   \n",
              "...                                                        ...   \n",
              "team2_defensive_derived_var_15                       -0.113489   \n",
              "team2_offensive_derived_var_16                        0.264865   \n",
              "team2_defensive_derived_var_17                        0.031969   \n",
              "team2_offensive_derived_var_18                        0.007530   \n",
              "team2_offensive_derived_var_19                        0.088693   \n",
              "\n",
              "                                team2_offensive_derived_var_13  \\\n",
              "row_id                                                0.010920   \n",
              "scout_id                                             -0.024087   \n",
              "rating_num                                           -0.017786   \n",
              "competitionId                                         0.004663   \n",
              "player_position_1                                    -0.015540   \n",
              "...                                                        ...   \n",
              "team2_defensive_derived_var_15                        0.157603   \n",
              "team2_offensive_derived_var_16                       -0.166565   \n",
              "team2_defensive_derived_var_17                       -0.027016   \n",
              "team2_offensive_derived_var_18                       -0.036860   \n",
              "team2_offensive_derived_var_19                       -0.051449   \n",
              "\n",
              "                                team2_offensive_derived_var_14  \\\n",
              "row_id                                                0.008544   \n",
              "scout_id                                              0.042262   \n",
              "rating_num                                           -0.023993   \n",
              "competitionId                                         0.033632   \n",
              "player_position_1                                    -0.003472   \n",
              "...                                                        ...   \n",
              "team2_defensive_derived_var_15                        0.492222   \n",
              "team2_offensive_derived_var_16                        0.332019   \n",
              "team2_defensive_derived_var_17                        0.161296   \n",
              "team2_offensive_derived_var_18                        0.585079   \n",
              "team2_offensive_derived_var_19                       -0.121711   \n",
              "\n",
              "                                team2_defensive_derived_var_15  \\\n",
              "row_id                                               -0.002126   \n",
              "scout_id                                              0.013332   \n",
              "rating_num                                            0.010867   \n",
              "competitionId                                         0.014912   \n",
              "player_position_1                                     0.001327   \n",
              "...                                                        ...   \n",
              "team2_defensive_derived_var_15                        1.000000   \n",
              "team2_offensive_derived_var_16                        0.289166   \n",
              "team2_defensive_derived_var_17                        0.312034   \n",
              "team2_offensive_derived_var_18                        0.221454   \n",
              "team2_offensive_derived_var_19                       -0.132890   \n",
              "\n",
              "                                team2_offensive_derived_var_16  \\\n",
              "row_id                                               -0.009874   \n",
              "scout_id                                             -0.003362   \n",
              "rating_num                                            0.025713   \n",
              "competitionId                                         0.000775   \n",
              "player_position_1                                     0.005485   \n",
              "...                                                        ...   \n",
              "team2_defensive_derived_var_15                        0.289166   \n",
              "team2_offensive_derived_var_16                        1.000000   \n",
              "team2_defensive_derived_var_17                        0.020408   \n",
              "team2_offensive_derived_var_18                        0.175557   \n",
              "team2_offensive_derived_var_19                        0.035632   \n",
              "\n",
              "                                team2_defensive_derived_var_17  \\\n",
              "row_id                                               -0.005428   \n",
              "scout_id                                              0.027326   \n",
              "rating_num                                            0.016586   \n",
              "competitionId                                        -0.019079   \n",
              "player_position_1                                     0.014589   \n",
              "...                                                        ...   \n",
              "team2_defensive_derived_var_15                        0.312034   \n",
              "team2_offensive_derived_var_16                        0.020408   \n",
              "team2_defensive_derived_var_17                        1.000000   \n",
              "team2_offensive_derived_var_18                        0.076861   \n",
              "team2_offensive_derived_var_19                        0.086896   \n",
              "\n",
              "                                team2_offensive_derived_var_18  \\\n",
              "row_id                                               -0.008082   \n",
              "scout_id                                              0.033307   \n",
              "rating_num                                            0.033952   \n",
              "competitionId                                         0.196055   \n",
              "player_position_1                                    -0.011718   \n",
              "...                                                        ...   \n",
              "team2_defensive_derived_var_15                        0.221454   \n",
              "team2_offensive_derived_var_16                        0.175557   \n",
              "team2_defensive_derived_var_17                        0.076861   \n",
              "team2_offensive_derived_var_18                        1.000000   \n",
              "team2_offensive_derived_var_19                       -0.208941   \n",
              "\n",
              "                                team2_offensive_derived_var_19  \n",
              "row_id                                                0.026936  \n",
              "scout_id                                              0.020558  \n",
              "rating_num                                           -0.011991  \n",
              "competitionId                                        -0.018709  \n",
              "player_position_1                                     0.007915  \n",
              "...                                                        ...  \n",
              "team2_defensive_derived_var_15                       -0.132890  \n",
              "team2_offensive_derived_var_16                        0.035632  \n",
              "team2_defensive_derived_var_17                        0.086896  \n",
              "team2_offensive_derived_var_18                       -0.208941  \n",
              "team2_offensive_derived_var_19                        1.000000  \n",
              "\n",
              "[798 rows x 798 columns]"
            ],
            "text/html": [
              "\n",
              "  <div id=\"df-88005b36-113e-483c-bd68-a37795cba784\">\n",
              "    <div class=\"colab-df-container\">\n",
              "      <div>\n",
              "<style scoped>\n",
              "    .dataframe tbody tr th:only-of-type {\n",
              "        vertical-align: middle;\n",
              "    }\n",
              "\n",
              "    .dataframe tbody tr th {\n",
              "        vertical-align: top;\n",
              "    }\n",
              "\n",
              "    .dataframe thead th {\n",
              "        text-align: right;\n",
              "    }\n",
              "</style>\n",
              "<table border=\"1\" class=\"dataframe\">\n",
              "  <thead>\n",
              "    <tr style=\"text-align: right;\">\n",
              "      <th></th>\n",
              "      <th>row_id</th>\n",
              "      <th>scout_id</th>\n",
              "      <th>rating_num</th>\n",
              "      <th>competitionId</th>\n",
              "      <th>player_position_1</th>\n",
              "      <th>player_position_2</th>\n",
              "      <th>player_height</th>\n",
              "      <th>player_weight</th>\n",
              "      <th>player_general_var_0</th>\n",
              "      <th>player_general_var_1</th>\n",
              "      <th>...</th>\n",
              "      <th>team2_defensive_derived_var_10</th>\n",
              "      <th>team2_offensive_derived_var_11</th>\n",
              "      <th>team2_offensive_derived_var_12</th>\n",
              "      <th>team2_offensive_derived_var_13</th>\n",
              "      <th>team2_offensive_derived_var_14</th>\n",
              "      <th>team2_defensive_derived_var_15</th>\n",
              "      <th>team2_offensive_derived_var_16</th>\n",
              "      <th>team2_defensive_derived_var_17</th>\n",
              "      <th>team2_offensive_derived_var_18</th>\n",
              "      <th>team2_offensive_derived_var_19</th>\n",
              "    </tr>\n",
              "  </thead>\n",
              "  <tbody>\n",
              "    <tr>\n",
              "      <th>row_id</th>\n",
              "      <td>1.000000</td>\n",
              "      <td>0.017885</td>\n",
              "      <td>-0.167852</td>\n",
              "      <td>0.032443</td>\n",
              "      <td>0.003965</td>\n",
              "      <td>0.005554</td>\n",
              "      <td>-0.012078</td>\n",
              "      <td>-0.010551</td>\n",
              "      <td>-0.037521</td>\n",
              "      <td>0.001232</td>\n",
              "      <td>...</td>\n",
              "      <td>0.006372</td>\n",
              "      <td>-0.016581</td>\n",
              "      <td>-0.009663</td>\n",
              "      <td>0.010920</td>\n",
              "      <td>0.008544</td>\n",
              "      <td>-0.002126</td>\n",
              "      <td>-0.009874</td>\n",
              "      <td>-0.005428</td>\n",
              "      <td>-0.008082</td>\n",
              "      <td>0.026936</td>\n",
              "    </tr>\n",
              "    <tr>\n",
              "      <th>scout_id</th>\n",
              "      <td>0.017885</td>\n",
              "      <td>1.000000</td>\n",
              "      <td>0.013590</td>\n",
              "      <td>0.041903</td>\n",
              "      <td>-0.010558</td>\n",
              "      <td>-0.007104</td>\n",
              "      <td>-0.021856</td>\n",
              "      <td>-0.038816</td>\n",
              "      <td>0.003574</td>\n",
              "      <td>-0.003382</td>\n",
              "      <td>...</td>\n",
              "      <td>0.007296</td>\n",
              "      <td>0.007516</td>\n",
              "      <td>-0.001189</td>\n",
              "      <td>-0.024087</td>\n",
              "      <td>0.042262</td>\n",
              "      <td>0.013332</td>\n",
              "      <td>-0.003362</td>\n",
              "      <td>0.027326</td>\n",
              "      <td>0.033307</td>\n",
              "      <td>0.020558</td>\n",
              "    </tr>\n",
              "    <tr>\n",
              "      <th>rating_num</th>\n",
              "      <td>-0.167852</td>\n",
              "      <td>0.013590</td>\n",
              "      <td>1.000000</td>\n",
              "      <td>-0.068516</td>\n",
              "      <td>0.019457</td>\n",
              "      <td>0.022495</td>\n",
              "      <td>-0.014785</td>\n",
              "      <td>-0.053880</td>\n",
              "      <td>0.117848</td>\n",
              "      <td>-0.020071</td>\n",
              "      <td>...</td>\n",
              "      <td>0.022215</td>\n",
              "      <td>0.028937</td>\n",
              "      <td>0.019037</td>\n",
              "      <td>-0.017786</td>\n",
              "      <td>-0.023993</td>\n",
              "      <td>0.010867</td>\n",
              "      <td>0.025713</td>\n",
              "      <td>0.016586</td>\n",
              "      <td>0.033952</td>\n",
              "      <td>-0.011991</td>\n",
              "    </tr>\n",
              "    <tr>\n",
              "      <th>competitionId</th>\n",
              "      <td>0.032443</td>\n",
              "      <td>0.041903</td>\n",
              "      <td>-0.068516</td>\n",
              "      <td>1.000000</td>\n",
              "      <td>-0.002132</td>\n",
              "      <td>-0.007870</td>\n",
              "      <td>0.010574</td>\n",
              "      <td>-0.011889</td>\n",
              "      <td>0.027847</td>\n",
              "      <td>0.000404</td>\n",
              "      <td>...</td>\n",
              "      <td>0.022037</td>\n",
              "      <td>0.025652</td>\n",
              "      <td>0.048990</td>\n",
              "      <td>0.004663</td>\n",
              "      <td>0.033632</td>\n",
              "      <td>0.014912</td>\n",
              "      <td>0.000775</td>\n",
              "      <td>-0.019079</td>\n",
              "      <td>0.196055</td>\n",
              "      <td>-0.018709</td>\n",
              "    </tr>\n",
              "    <tr>\n",
              "      <th>player_position_1</th>\n",
              "      <td>0.003965</td>\n",
              "      <td>-0.010558</td>\n",
              "      <td>0.019457</td>\n",
              "      <td>-0.002132</td>\n",
              "      <td>1.000000</td>\n",
              "      <td>0.954262</td>\n",
              "      <td>-0.080985</td>\n",
              "      <td>-0.040299</td>\n",
              "      <td>0.130674</td>\n",
              "      <td>-0.030808</td>\n",
              "      <td>...</td>\n",
              "      <td>-0.010303</td>\n",
              "      <td>-0.000996</td>\n",
              "      <td>0.010647</td>\n",
              "      <td>-0.015540</td>\n",
              "      <td>-0.003472</td>\n",
              "      <td>0.001327</td>\n",
              "      <td>0.005485</td>\n",
              "      <td>0.014589</td>\n",
              "      <td>-0.011718</td>\n",
              "      <td>0.007915</td>\n",
              "    </tr>\n",
              "    <tr>\n",
              "      <th>...</th>\n",
              "      <td>...</td>\n",
              "      <td>...</td>\n",
              "      <td>...</td>\n",
              "      <td>...</td>\n",
              "      <td>...</td>\n",
              "      <td>...</td>\n",
              "      <td>...</td>\n",
              "      <td>...</td>\n",
              "      <td>...</td>\n",
              "      <td>...</td>\n",
              "      <td>...</td>\n",
              "      <td>...</td>\n",
              "      <td>...</td>\n",
              "      <td>...</td>\n",
              "      <td>...</td>\n",
              "      <td>...</td>\n",
              "      <td>...</td>\n",
              "      <td>...</td>\n",
              "      <td>...</td>\n",
              "      <td>...</td>\n",
              "      <td>...</td>\n",
              "    </tr>\n",
              "    <tr>\n",
              "      <th>team2_defensive_derived_var_15</th>\n",
              "      <td>-0.002126</td>\n",
              "      <td>0.013332</td>\n",
              "      <td>0.010867</td>\n",
              "      <td>0.014912</td>\n",
              "      <td>0.001327</td>\n",
              "      <td>-0.004716</td>\n",
              "      <td>0.014221</td>\n",
              "      <td>0.018672</td>\n",
              "      <td>0.016705</td>\n",
              "      <td>-0.004716</td>\n",
              "      <td>...</td>\n",
              "      <td>0.071105</td>\n",
              "      <td>0.237930</td>\n",
              "      <td>-0.113489</td>\n",
              "      <td>0.157603</td>\n",
              "      <td>0.492222</td>\n",
              "      <td>1.000000</td>\n",
              "      <td>0.289166</td>\n",
              "      <td>0.312034</td>\n",
              "      <td>0.221454</td>\n",
              "      <td>-0.132890</td>\n",
              "    </tr>\n",
              "    <tr>\n",
              "      <th>team2_offensive_derived_var_16</th>\n",
              "      <td>-0.009874</td>\n",
              "      <td>-0.003362</td>\n",
              "      <td>0.025713</td>\n",
              "      <td>0.000775</td>\n",
              "      <td>0.005485</td>\n",
              "      <td>0.000884</td>\n",
              "      <td>-0.000046</td>\n",
              "      <td>0.014069</td>\n",
              "      <td>0.044370</td>\n",
              "      <td>0.005231</td>\n",
              "      <td>...</td>\n",
              "      <td>0.075035</td>\n",
              "      <td>0.741696</td>\n",
              "      <td>0.264865</td>\n",
              "      <td>-0.166565</td>\n",
              "      <td>0.332019</td>\n",
              "      <td>0.289166</td>\n",
              "      <td>1.000000</td>\n",
              "      <td>0.020408</td>\n",
              "      <td>0.175557</td>\n",
              "      <td>0.035632</td>\n",
              "    </tr>\n",
              "    <tr>\n",
              "      <th>team2_defensive_derived_var_17</th>\n",
              "      <td>-0.005428</td>\n",
              "      <td>0.027326</td>\n",
              "      <td>0.016586</td>\n",
              "      <td>-0.019079</td>\n",
              "      <td>0.014589</td>\n",
              "      <td>0.010171</td>\n",
              "      <td>0.018884</td>\n",
              "      <td>0.011171</td>\n",
              "      <td>-0.019371</td>\n",
              "      <td>-0.011628</td>\n",
              "      <td>...</td>\n",
              "      <td>-0.163826</td>\n",
              "      <td>0.051611</td>\n",
              "      <td>0.031969</td>\n",
              "      <td>-0.027016</td>\n",
              "      <td>0.161296</td>\n",
              "      <td>0.312034</td>\n",
              "      <td>0.020408</td>\n",
              "      <td>1.000000</td>\n",
              "      <td>0.076861</td>\n",
              "      <td>0.086896</td>\n",
              "    </tr>\n",
              "    <tr>\n",
              "      <th>team2_offensive_derived_var_18</th>\n",
              "      <td>-0.008082</td>\n",
              "      <td>0.033307</td>\n",
              "      <td>0.033952</td>\n",
              "      <td>0.196055</td>\n",
              "      <td>-0.011718</td>\n",
              "      <td>-0.013271</td>\n",
              "      <td>-0.006083</td>\n",
              "      <td>0.002757</td>\n",
              "      <td>0.026901</td>\n",
              "      <td>0.002473</td>\n",
              "      <td>...</td>\n",
              "      <td>-0.021379</td>\n",
              "      <td>0.369433</td>\n",
              "      <td>0.007530</td>\n",
              "      <td>-0.036860</td>\n",
              "      <td>0.585079</td>\n",
              "      <td>0.221454</td>\n",
              "      <td>0.175557</td>\n",
              "      <td>0.076861</td>\n",
              "      <td>1.000000</td>\n",
              "      <td>-0.208941</td>\n",
              "    </tr>\n",
              "    <tr>\n",
              "      <th>team2_offensive_derived_var_19</th>\n",
              "      <td>0.026936</td>\n",
              "      <td>0.020558</td>\n",
              "      <td>-0.011991</td>\n",
              "      <td>-0.018709</td>\n",
              "      <td>0.007915</td>\n",
              "      <td>0.007245</td>\n",
              "      <td>0.015275</td>\n",
              "      <td>0.008360</td>\n",
              "      <td>-0.013058</td>\n",
              "      <td>-0.004775</td>\n",
              "      <td>...</td>\n",
              "      <td>-0.068569</td>\n",
              "      <td>0.137021</td>\n",
              "      <td>0.088693</td>\n",
              "      <td>-0.051449</td>\n",
              "      <td>-0.121711</td>\n",
              "      <td>-0.132890</td>\n",
              "      <td>0.035632</td>\n",
              "      <td>0.086896</td>\n",
              "      <td>-0.208941</td>\n",
              "      <td>1.000000</td>\n",
              "    </tr>\n",
              "  </tbody>\n",
              "</table>\n",
              "<p>798 rows × 798 columns</p>\n",
              "</div>\n",
              "      <button class=\"colab-df-convert\" onclick=\"convertToInteractive('df-88005b36-113e-483c-bd68-a37795cba784')\"\n",
              "              title=\"Convert this dataframe to an interactive table.\"\n",
              "              style=\"display:none;\">\n",
              "        \n",
              "  <svg xmlns=\"http://www.w3.org/2000/svg\" height=\"24px\"viewBox=\"0 0 24 24\"\n",
              "       width=\"24px\">\n",
              "    <path d=\"M0 0h24v24H0V0z\" fill=\"none\"/>\n",
              "    <path d=\"M18.56 5.44l.94 2.06.94-2.06 2.06-.94-2.06-.94-.94-2.06-.94 2.06-2.06.94zm-11 1L8.5 8.5l.94-2.06 2.06-.94-2.06-.94L8.5 2.5l-.94 2.06-2.06.94zm10 10l.94 2.06.94-2.06 2.06-.94-2.06-.94-.94-2.06-.94 2.06-2.06.94z\"/><path d=\"M17.41 7.96l-1.37-1.37c-.4-.4-.92-.59-1.43-.59-.52 0-1.04.2-1.43.59L10.3 9.45l-7.72 7.72c-.78.78-.78 2.05 0 2.83L4 21.41c.39.39.9.59 1.41.59.51 0 1.02-.2 1.41-.59l7.78-7.78 2.81-2.81c.8-.78.8-2.07 0-2.86zM5.41 20L4 18.59l7.72-7.72 1.47 1.35L5.41 20z\"/>\n",
              "  </svg>\n",
              "      </button>\n",
              "      \n",
              "  <style>\n",
              "    .colab-df-container {\n",
              "      display:flex;\n",
              "      flex-wrap:wrap;\n",
              "      gap: 12px;\n",
              "    }\n",
              "\n",
              "    .colab-df-convert {\n",
              "      background-color: #E8F0FE;\n",
              "      border: none;\n",
              "      border-radius: 50%;\n",
              "      cursor: pointer;\n",
              "      display: none;\n",
              "      fill: #1967D2;\n",
              "      height: 32px;\n",
              "      padding: 0 0 0 0;\n",
              "      width: 32px;\n",
              "    }\n",
              "\n",
              "    .colab-df-convert:hover {\n",
              "      background-color: #E2EBFA;\n",
              "      box-shadow: 0px 1px 2px rgba(60, 64, 67, 0.3), 0px 1px 3px 1px rgba(60, 64, 67, 0.15);\n",
              "      fill: #174EA6;\n",
              "    }\n",
              "\n",
              "    [theme=dark] .colab-df-convert {\n",
              "      background-color: #3B4455;\n",
              "      fill: #D2E3FC;\n",
              "    }\n",
              "\n",
              "    [theme=dark] .colab-df-convert:hover {\n",
              "      background-color: #434B5C;\n",
              "      box-shadow: 0px 1px 3px 1px rgba(0, 0, 0, 0.15);\n",
              "      filter: drop-shadow(0px 1px 2px rgba(0, 0, 0, 0.3));\n",
              "      fill: #FFFFFF;\n",
              "    }\n",
              "  </style>\n",
              "\n",
              "      <script>\n",
              "        const buttonEl =\n",
              "          document.querySelector('#df-88005b36-113e-483c-bd68-a37795cba784 button.colab-df-convert');\n",
              "        buttonEl.style.display =\n",
              "          google.colab.kernel.accessAllowed ? 'block' : 'none';\n",
              "\n",
              "        async function convertToInteractive(key) {\n",
              "          const element = document.querySelector('#df-88005b36-113e-483c-bd68-a37795cba784');\n",
              "          const dataTable =\n",
              "            await google.colab.kernel.invokeFunction('convertToInteractive',\n",
              "                                                     [key], {});\n",
              "          if (!dataTable) return;\n",
              "\n",
              "          const docLinkHtml = 'Like what you see? Visit the ' +\n",
              "            '<a target=\"_blank\" href=https://colab.research.google.com/notebooks/data_table.ipynb>data table notebook</a>'\n",
              "            + ' to learn more about interactive tables.';\n",
              "          element.innerHTML = '';\n",
              "          dataTable['output_type'] = 'display_data';\n",
              "          await google.colab.output.renderOutput(dataTable, element);\n",
              "          const docLink = document.createElement('div');\n",
              "          docLink.innerHTML = docLinkHtml;\n",
              "          element.appendChild(docLink);\n",
              "        }\n",
              "      </script>\n",
              "    </div>\n",
              "  </div>\n",
              "  "
            ]
          },
          "metadata": {},
          "execution_count": 11
        }
      ]
    },
    {
      "cell_type": "markdown",
      "source": [
        "###Empty and Null Columns"
      ],
      "metadata": {
        "id": "7udLr6usfj5a"
      }
    },
    {
      "cell_type": "code",
      "source": [
        "nan_cols = [i for i in train.columns if train[i].isnull().all()]\n",
        "nan_cols"
      ],
      "metadata": {
        "id": "le1pZQl-foEJ",
        "colab": {
          "base_uri": "https://localhost:8080/"
        },
        "outputId": "d7af8eeb-115b-4243-f59f-01813b48bbdd"
      },
      "execution_count": 5,
      "outputs": [
        {
          "output_type": "execute_result",
          "data": {
            "text/plain": [
              "['team1_other_raw_var_19',\n",
              " 'team1_other_raw_var_31',\n",
              " 'team1_other_raw_var_33',\n",
              " 'team1_other_raw_var_38',\n",
              " 'team1_other_raw_var_40',\n",
              " 'team1_other_raw_var_43',\n",
              " 'team1_other_raw_var_50',\n",
              " 'team1_other_raw_var_51',\n",
              " 'team1_other_raw_var_72',\n",
              " 'team1_other_raw_var_82',\n",
              " 'team1_other_raw_var_92',\n",
              " 'team1_other_ratio_var_32',\n",
              " 'team1_other_ratio_var_33',\n",
              " 'team2_other_raw_var_19',\n",
              " 'team2_other_raw_var_31',\n",
              " 'team2_other_raw_var_33',\n",
              " 'team2_other_raw_var_38',\n",
              " 'team2_other_raw_var_40',\n",
              " 'team2_other_raw_var_43',\n",
              " 'team2_other_raw_var_50',\n",
              " 'team2_other_raw_var_51',\n",
              " 'team2_other_raw_var_72',\n",
              " 'team2_other_raw_var_82',\n",
              " 'team2_other_raw_var_92',\n",
              " 'team2_other_ratio_var_32',\n",
              " 'team2_other_ratio_var_33']"
            ]
          },
          "metadata": {},
          "execution_count": 5
        }
      ]
    },
    {
      "cell_type": "markdown",
      "source": [
        "### Checking for Skewed Distribution using Box Plots"
      ],
      "metadata": {
        "id": "0gQJOmZ12v7A"
      }
    },
    {
      "cell_type": "code",
      "source": [
        "import seaborn as sns\n",
        "import matplotlib.pyplot as plt\n",
        "sns.boxplot(x='player_physical_raw_var_193', data=train)\n",
        "\n",
        "#Raw variables have normal distribution generally\n"
      ],
      "metadata": {
        "colab": {
          "base_uri": "https://localhost:8080/",
          "height": 297
        },
        "id": "56JUx0R7u8Cd",
        "outputId": "8cbc25a9-4e04-4f88-a173-4aab90af1fec"
      },
      "execution_count": 6,
      "outputs": [
        {
          "output_type": "execute_result",
          "data": {
            "text/plain": [
              "<matplotlib.axes._subplots.AxesSubplot at 0x7fbf7067c2d0>"
            ]
          },
          "metadata": {},
          "execution_count": 6
        },
        {
          "output_type": "display_data",
          "data": {
            "text/plain": [
              "<Figure size 432x288 with 1 Axes>"
            ],
            "image/png": "[encoded data removed]"
          },
          "metadata": {
            "needs_background": "light"
          }
        }
      ]
    },
    {
      "cell_type": "code",
      "source": [
        "#derived and ratio columns have skewed distribution mostly\n",
        "import seaborn as sns\n",
        "import matplotlib.pyplot as plt\n",
        "sns.boxplot(x='player_physical_derived_var_54', data=train)"
      ],
      "metadata": {
        "colab": {
          "base_uri": "https://localhost:8080/",
          "height": 297
        },
        "id": "VcegAZto0Ol1",
        "outputId": "4884f75e-aa30-48d1-978d-17d3c3b390b3"
      },
      "execution_count": 7,
      "outputs": [
        {
          "output_type": "execute_result",
          "data": {
            "text/plain": [
              "<matplotlib.axes._subplots.AxesSubplot at 0x7fbf70626590>"
            ]
          },
          "metadata": {},
          "execution_count": 7
        },
        {
          "output_type": "display_data",
          "data": {
            "text/plain": [
              "<Figure size 432x288 with 1 Axes>"
            ],
            "image/png": "[encoded data removed]"
          },
          "metadata": {
            "needs_background": "light"
          }
        }
      ]
    },
    {
      "cell_type": "code",
      "source": [
        "#derived and ratio columns have skewed distribution mostly\n",
        "import seaborn as sns\n",
        "import matplotlib.pyplot as plt\n",
        "sns.boxplot(x='player_offensive_derived_var_89', data=train)"
      ],
      "metadata": {
        "colab": {
          "base_uri": "https://localhost:8080/",
          "height": 297
        },
        "id": "8fCPdNy-8trv",
        "outputId": "31448a79-7f36-4127-f62b-d242afad2da5"
      },
      "execution_count": 8,
      "outputs": [
        {
          "output_type": "execute_result",
          "data": {
            "text/plain": [
              "<matplotlib.axes._subplots.AxesSubplot at 0x7fbf70158310>"
            ]
          },
          "metadata": {},
          "execution_count": 8
        },
        {
          "output_type": "display_data",
          "data": {
            "text/plain": [
              "<Figure size 432x288 with 1 Axes>"
            ],
            "image/png": "[encoded data removed]"
          },
          "metadata": {
            "needs_background": "light"
          }
        }
      ]
    },
    {
      "cell_type": "markdown",
      "source": [
        "### Checking for Multimodal Distributions"
      ],
      "metadata": {
        "id": "BGq5U9_Cf-YC"
      }
    },
    {
      "cell_type": "code",
      "source": [
        "import seaborn as sns\n",
        "sns.kdeplot(data=train, x=\"player_other_raw_var_34\")"
      ],
      "metadata": {
        "colab": {
          "base_uri": "https://localhost:8080/",
          "height": 297
        },
        "id": "RLfvb_segFJR",
        "outputId": "379673bb-6ec8-470b-a937-53e2af29c467"
      },
      "execution_count": 9,
      "outputs": [
        {
          "output_type": "execute_result",
          "data": {
            "text/plain": [
              "<matplotlib.axes._subplots.AxesSubplot at 0x7fbf7014ed50>"
            ]
          },
          "metadata": {},
          "execution_count": 9
        },
        {
          "output_type": "display_data",
          "data": {
            "text/plain": [
              "<Figure size 432x288 with 1 Axes>"
            ],
            "image/png": "[encoded data removed]"
          },
          "metadata": {
            "needs_background": "light"
          }
        }
      ]
    },
    {
      "cell_type": "code",
      "source": [
        "import seaborn as sns\n",
        "sns.kdeplot(data=train, x=\"player_positional_raw_var_55\")"
      ],
      "metadata": {
        "colab": {
          "base_uri": "https://localhost:8080/",
          "height": 297
        },
        "id": "g0LEoa0CgmVv",
        "outputId": "3e8205aa-5ee4-4886-fd7e-02f48eb2fb51"
      },
      "execution_count": 10,
      "outputs": [
        {
          "output_type": "execute_result",
          "data": {
            "text/plain": [
              "<matplotlib.axes._subplots.AxesSubplot at 0x7fbf70164cd0>"
            ]
          },
          "metadata": {},
          "execution_count": 10
        },
        {
          "output_type": "display_data",
          "data": {
            "text/plain": [
              "<Figure size 432x288 with 1 Axes>"
            ],
            "image/png": "[encoded data removed]"
          },
          "metadata": {
            "needs_background": "light"
          }
        }
      ]
    },
    {
      "cell_type": "code",
      "source": [
        "import seaborn as sns\n",
        "sns.kdeplot(data=train, x=\"player_defensive_raw_var_74\")"
      ],
      "metadata": {
        "colab": {
          "base_uri": "https://localhost:8080/",
          "height": 297
        },
        "id": "kxcUjuGIg8VT",
        "outputId": "1985bc3b-c51f-497b-dc3e-b3f2f9ba2d36"
      },
      "execution_count": 11,
      "outputs": [
        {
          "output_type": "execute_result",
          "data": {
            "text/plain": [
              "<matplotlib.axes._subplots.AxesSubplot at 0x7fbf6d782ad0>"
            ]
          },
          "metadata": {},
          "execution_count": 11
        },
        {
          "output_type": "display_data",
          "data": {
            "text/plain": [
              "<Figure size 432x288 with 1 Axes>"
            ],
            "image/png": "[encoded data removed]"
          },
          "metadata": {
            "needs_background": "light"
          }
        }
      ]
    },
    {
      "cell_type": "markdown",
      "source": [
        "# Pre-Processing\n",
        "### Some Observations after Analysis in R and Excel are as follows:\n",
        "1. There are plenty of Null and Zero columns which need to be removed. \n",
        "2. 50 columns which have more than 80% Null Values and some of them even had 100% Null Values.\n",
        "3. There are plenty of highly corelated columns which needs to be removed.\n",
        "4. The train data is not uniformly distributed , there are columns with Skewed Distribution (especially the  Ratio and Derived Vars).\n",
        "5. A lot of columns have multimodal distribution.\n",
        "\n"
      ],
      "metadata": {
        "id": "vU0fGMd1PvuX"
      }
    },
    {
      "cell_type": "code",
      "source": [
        "#Dropping \"rating_num\" from training set\n",
        "x_train = train.drop(['rating_num'], axis = 1)\n",
        "x_test = test.copy()"
      ],
      "metadata": {
        "id": "xxFLstGakFj3"
      },
      "execution_count": 12,
      "outputs": []
    },
    {
      "cell_type": "code",
      "source": [
        "# Dropping the row_id\n",
        "combo = pd.concat([x_train,x_test])\n",
        "combo = combo.drop(['row_id'], axis = 1)\n",
        "combo"
      ],
      "metadata": {
        "colab": {
          "base_uri": "https://localhost:8080/",
          "height": 488
        },
        "id": "8fglZ5c9rsWd",
        "outputId": "307d7659-b013-47ff-8f24-4197d7c0d4a9"
      },
      "execution_count": 13,
      "outputs": [
        {
          "output_type": "execute_result",
          "data": {
            "text/plain": [
              "      scout_id  winner   team  competitionId  player_position_1  \\\n",
              "0           13  winner  team1            8.0                7.0   \n",
              "1           16   loser  team2            8.0                3.0   \n",
              "2            4   loser  team1            5.0               11.0   \n",
              "3           13   loser  team2            4.0               17.0   \n",
              "4           11    draw  team1            5.0               10.0   \n",
              "...        ...     ...    ...            ...                ...   \n",
              "8769        15   loser  team1            7.0               11.0   \n",
              "8770         2    draw  team1            4.0               16.0   \n",
              "8771         2   loser  team2            4.0                1.0   \n",
              "8772        11  winner  team1           10.0                1.0   \n",
              "8773         3  winner  team1            4.0                3.0   \n",
              "\n",
              "      player_position_2  player_height  player_weight  player_general_var_0  \\\n",
              "0                   7.0       0.317073           0.48                   0.0   \n",
              "1                   9.0       0.463415           0.42                   0.0   \n",
              "2                  11.0       0.682927           0.44                   0.0   \n",
              "3                  17.0       0.682927           0.58                   0.0   \n",
              "4                  10.0       0.731707           0.70                   0.0   \n",
              "...                 ...            ...            ...                   ...   \n",
              "8769               11.0       0.463415           0.60                   0.0   \n",
              "8770               16.0       0.341463           0.40                   0.2   \n",
              "8771                1.0       0.439024           0.36                   0.0   \n",
              "8772                1.0       0.463415           0.54                   0.0   \n",
              "8773                3.0       0.560976           0.48                   0.0   \n",
              "\n",
              "      player_general_var_1  ...  team2_defensive_derived_var_10  \\\n",
              "0                        0  ...                        0.193658   \n",
              "1                        0  ...                        0.190500   \n",
              "2                        0  ...                        0.312314   \n",
              "3                        0  ...                        0.282556   \n",
              "4                        0  ...                        0.450453   \n",
              "...                    ...  ...                             ...   \n",
              "8769                     0  ...                        0.371974   \n",
              "8770                     0  ...                        0.380558   \n",
              "8771                     0  ...                        0.147700   \n",
              "8772                     0  ...                        0.243285   \n",
              "8773                     0  ...                        0.261760   \n",
              "\n",
              "      team2_offensive_derived_var_11  team2_offensive_derived_var_12  \\\n",
              "0                           0.131548                        0.097131   \n",
              "1                           0.173697                        0.272801   \n",
              "2                           0.250756                        0.212631   \n",
              "3                           0.155969                        0.206503   \n",
              "4                           0.199050                        0.134002   \n",
              "...                              ...                             ...   \n",
              "8769                        0.290421                        0.342837   \n",
              "8770                        0.156339                        0.173252   \n",
              "8771                        0.182449                        0.306235   \n",
              "8772                        0.141524                        0.230742   \n",
              "8773                        0.174473                        0.120435   \n",
              "\n",
              "      team2_offensive_derived_var_13  team2_offensive_derived_var_14  \\\n",
              "0                           0.600944                        0.338892   \n",
              "1                           0.605659                        0.526761   \n",
              "2                           0.558833                        0.686523   \n",
              "3                           0.533002                        0.373959   \n",
              "4                           0.688773                        0.681724   \n",
              "...                              ...                             ...   \n",
              "8769                        0.572133                        0.721060   \n",
              "8770                        0.803287                        0.449554   \n",
              "8771                        0.591016                        0.484777   \n",
              "8772                        0.609988                        0.356299   \n",
              "8773                        0.764821                        0.540289   \n",
              "\n",
              "      team2_defensive_derived_var_15  team2_offensive_derived_var_16  \\\n",
              "0                           0.347980                        0.034157   \n",
              "1                           0.468976                        0.054034   \n",
              "2                           0.441749                        0.219441   \n",
              "3                           0.527733                        0.095201   \n",
              "4                           0.733625                        0.128719   \n",
              "...                              ...                             ...   \n",
              "8769                        0.683173                        0.341016   \n",
              "8770                        0.443569                        0.087641   \n",
              "8771                        0.804573                        0.094133   \n",
              "8772                        0.334398                        0.045464   \n",
              "8773                        0.492857                        0.113514   \n",
              "\n",
              "      team2_defensive_derived_var_17  team2_offensive_derived_var_18  \\\n",
              "0                           0.288962                        0.310727   \n",
              "1                           0.334962                        0.380073   \n",
              "2                           0.414288                        0.570757   \n",
              "3                           0.423040                        0.330754   \n",
              "4                           0.448360                        0.444946   \n",
              "...                              ...                             ...   \n",
              "8769                        0.400924                        0.554274   \n",
              "8770                        0.423432                        0.435869   \n",
              "8771                        0.250106                        0.358223   \n",
              "8772                        0.429783                        0.503833   \n",
              "8773                        0.463891                        0.338573   \n",
              "\n",
              "      team2_offensive_derived_var_19  \n",
              "0                           0.204925  \n",
              "1                           0.295392  \n",
              "2                           0.437500  \n",
              "3                           0.235558  \n",
              "4                           0.312500  \n",
              "...                              ...  \n",
              "8769                        0.275819  \n",
              "8770                        0.141724  \n",
              "8771                        0.376893  \n",
              "8772                        0.091779  \n",
              "8773                        0.482798  \n",
              "\n",
              "[29227 rows x 798 columns]"
            ],
            "text/html": [
              "\n",
              "  <div id=\"df-a1d0b4af-115c-4e04-8ac4-9bbf841b0455\">\n",
              "    <div class=\"colab-df-container\">\n",
              "      <div>\n",
              "<style scoped>\n",
              "    .dataframe tbody tr th:only-of-type {\n",
              "        vertical-align: middle;\n",
              "    }\n",
              "\n",
              "    .dataframe tbody tr th {\n",
              "        vertical-align: top;\n",
              "    }\n",
              "\n",
              "    .dataframe thead th {\n",
              "        text-align: right;\n",
              "    }\n",
              "</style>\n",
              "<table border=\"1\" class=\"dataframe\">\n",
              "  <thead>\n",
              "    <tr style=\"text-align: right;\">\n",
              "      <th></th>\n",
              "      <th>scout_id</th>\n",
              "      <th>winner</th>\n",
              "      <th>team</th>\n",
              "      <th>competitionId</th>\n",
              "      <th>player_position_1</th>\n",
              "      <th>player_position_2</th>\n",
              "      <th>player_height</th>\n",
              "      <th>player_weight</th>\n",
              "      <th>player_general_var_0</th>\n",
              "      <th>player_general_var_1</th>\n",
              "      <th>...</th>\n",
              "      <th>team2_defensive_derived_var_10</th>\n",
              "      <th>team2_offensive_derived_var_11</th>\n",
              "      <th>team2_offensive_derived_var_12</th>\n",
              "      <th>team2_offensive_derived_var_13</th>\n",
              "      <th>team2_offensive_derived_var_14</th>\n",
              "      <th>team2_defensive_derived_var_15</th>\n",
              "      <th>team2_offensive_derived_var_16</th>\n",
              "      <th>team2_defensive_derived_var_17</th>\n",
              "      <th>team2_offensive_derived_var_18</th>\n",
              "      <th>team2_offensive_derived_var_19</th>\n",
              "    </tr>\n",
              "  </thead>\n",
              "  <tbody>\n",
              "    <tr>\n",
              "      <th>0</th>\n",
              "      <td>13</td>\n",
              "      <td>winner</td>\n",
              "      <td>team1</td>\n",
              "      <td>8.0</td>\n",
              "      <td>7.0</td>\n",
              "      <td>7.0</td>\n",
              "      <td>0.317073</td>\n",
              "      <td>0.48</td>\n",
              "      <td>0.0</td>\n",
              "      <td>0</td>\n",
              "      <td>...</td>\n",
              "      <td>0.193658</td>\n",
              "      <td>0.131548</td>\n",
              "      <td>0.097131</td>\n",
              "      <td>0.600944</td>\n",
              "      <td>0.338892</td>\n",
              "      <td>0.347980</td>\n",
              "      <td>0.034157</td>\n",
              "      <td>0.288962</td>\n",
              "      <td>0.310727</td>\n",
              "      <td>0.204925</td>\n",
              "    </tr>\n",
              "    <tr>\n",
              "      <th>1</th>\n",
              "      <td>16</td>\n",
              "      <td>loser</td>\n",
              "      <td>team2</td>\n",
              "      <td>8.0</td>\n",
              "      <td>3.0</td>\n",
              "      <td>9.0</td>\n",
              "      <td>0.463415</td>\n",
              "      <td>0.42</td>\n",
              "      <td>0.0</td>\n",
              "      <td>0</td>\n",
              "      <td>...</td>\n",
              "      <td>0.190500</td>\n",
              "      <td>0.173697</td>\n",
              "      <td>0.272801</td>\n",
              "      <td>0.605659</td>\n",
              "      <td>0.526761</td>\n",
              "      <td>0.468976</td>\n",
              "      <td>0.054034</td>\n",
              "      <td>0.334962</td>\n",
              "      <td>0.380073</td>\n",
              "      <td>0.295392</td>\n",
              "    </tr>\n",
              "    <tr>\n",
              "      <th>2</th>\n",
              "      <td>4</td>\n",
              "      <td>loser</td>\n",
              "      <td>team1</td>\n",
              "      <td>5.0</td>\n",
              "      <td>11.0</td>\n",
              "      <td>11.0</td>\n",
              "      <td>0.682927</td>\n",
              "      <td>0.44</td>\n",
              "      <td>0.0</td>\n",
              "      <td>0</td>\n",
              "      <td>...</td>\n",
              "      <td>0.312314</td>\n",
              "      <td>0.250756</td>\n",
              "      <td>0.212631</td>\n",
              "      <td>0.558833</td>\n",
              "      <td>0.686523</td>\n",
              "      <td>0.441749</td>\n",
              "      <td>0.219441</td>\n",
              "      <td>0.414288</td>\n",
              "      <td>0.570757</td>\n",
              "      <td>0.437500</td>\n",
              "    </tr>\n",
              "    <tr>\n",
              "      <th>3</th>\n",
              "      <td>13</td>\n",
              "      <td>loser</td>\n",
              "      <td>team2</td>\n",
              "      <td>4.0</td>\n",
              "      <td>17.0</td>\n",
              "      <td>17.0</td>\n",
              "      <td>0.682927</td>\n",
              "      <td>0.58</td>\n",
              "      <td>0.0</td>\n",
              "      <td>0</td>\n",
              "      <td>...</td>\n",
              "      <td>0.282556</td>\n",
              "      <td>0.155969</td>\n",
              "      <td>0.206503</td>\n",
              "      <td>0.533002</td>\n",
              "      <td>0.373959</td>\n",
              "      <td>0.527733</td>\n",
              "      <td>0.095201</td>\n",
              "      <td>0.423040</td>\n",
              "      <td>0.330754</td>\n",
              "      <td>0.235558</td>\n",
              "    </tr>\n",
              "    <tr>\n",
              "      <th>4</th>\n",
              "      <td>11</td>\n",
              "      <td>draw</td>\n",
              "      <td>team1</td>\n",
              "      <td>5.0</td>\n",
              "      <td>10.0</td>\n",
              "      <td>10.0</td>\n",
              "      <td>0.731707</td>\n",
              "      <td>0.70</td>\n",
              "      <td>0.0</td>\n",
              "      <td>0</td>\n",
              "      <td>...</td>\n",
              "      <td>0.450453</td>\n",
              "      <td>0.199050</td>\n",
              "      <td>0.134002</td>\n",
              "      <td>0.688773</td>\n",
              "      <td>0.681724</td>\n",
              "      <td>0.733625</td>\n",
              "      <td>0.128719</td>\n",
              "      <td>0.448360</td>\n",
              "      <td>0.444946</td>\n",
              "      <td>0.312500</td>\n",
              "    </tr>\n",
              "    <tr>\n",
              "      <th>...</th>\n",
              "      <td>...</td>\n",
              "      <td>...</td>\n",
              "      <td>...</td>\n",
              "      <td>...</td>\n",
              "      <td>...</td>\n",
              "      <td>...</td>\n",
              "      <td>...</td>\n",
              "      <td>...</td>\n",
              "      <td>...</td>\n",
              "      <td>...</td>\n",
              "      <td>...</td>\n",
              "      <td>...</td>\n",
              "      <td>...</td>\n",
              "      <td>...</td>\n",
              "      <td>...</td>\n",
              "      <td>...</td>\n",
              "      <td>...</td>\n",
              "      <td>...</td>\n",
              "      <td>...</td>\n",
              "      <td>...</td>\n",
              "      <td>...</td>\n",
              "    </tr>\n",
              "    <tr>\n",
              "      <th>8769</th>\n",
              "      <td>15</td>\n",
              "      <td>loser</td>\n",
              "      <td>team1</td>\n",
              "      <td>7.0</td>\n",
              "      <td>11.0</td>\n",
              "      <td>11.0</td>\n",
              "      <td>0.463415</td>\n",
              "      <td>0.60</td>\n",
              "      <td>0.0</td>\n",
              "      <td>0</td>\n",
              "      <td>...</td>\n",
              "      <td>0.371974</td>\n",
              "      <td>0.290421</td>\n",
              "      <td>0.342837</td>\n",
              "      <td>0.572133</td>\n",
              "      <td>0.721060</td>\n",
              "      <td>0.683173</td>\n",
              "      <td>0.341016</td>\n",
              "      <td>0.400924</td>\n",
              "      <td>0.554274</td>\n",
              "      <td>0.275819</td>\n",
              "    </tr>\n",
              "    <tr>\n",
              "      <th>8770</th>\n",
              "      <td>2</td>\n",
              "      <td>draw</td>\n",
              "      <td>team1</td>\n",
              "      <td>4.0</td>\n",
              "      <td>16.0</td>\n",
              "      <td>16.0</td>\n",
              "      <td>0.341463</td>\n",
              "      <td>0.40</td>\n",
              "      <td>0.2</td>\n",
              "      <td>0</td>\n",
              "      <td>...</td>\n",
              "      <td>0.380558</td>\n",
              "      <td>0.156339</td>\n",
              "      <td>0.173252</td>\n",
              "      <td>0.803287</td>\n",
              "      <td>0.449554</td>\n",
              "      <td>0.443569</td>\n",
              "      <td>0.087641</td>\n",
              "      <td>0.423432</td>\n",
              "      <td>0.435869</td>\n",
              "      <td>0.141724</td>\n",
              "    </tr>\n",
              "    <tr>\n",
              "      <th>8771</th>\n",
              "      <td>2</td>\n",
              "      <td>loser</td>\n",
              "      <td>team2</td>\n",
              "      <td>4.0</td>\n",
              "      <td>1.0</td>\n",
              "      <td>1.0</td>\n",
              "      <td>0.439024</td>\n",
              "      <td>0.36</td>\n",
              "      <td>0.0</td>\n",
              "      <td>0</td>\n",
              "      <td>...</td>\n",
              "      <td>0.147700</td>\n",
              "      <td>0.182449</td>\n",
              "      <td>0.306235</td>\n",
              "      <td>0.591016</td>\n",
              "      <td>0.484777</td>\n",
              "      <td>0.804573</td>\n",
              "      <td>0.094133</td>\n",
              "      <td>0.250106</td>\n",
              "      <td>0.358223</td>\n",
              "      <td>0.376893</td>\n",
              "    </tr>\n",
              "    <tr>\n",
              "      <th>8772</th>\n",
              "      <td>11</td>\n",
              "      <td>winner</td>\n",
              "      <td>team1</td>\n",
              "      <td>10.0</td>\n",
              "      <td>1.0</td>\n",
              "      <td>1.0</td>\n",
              "      <td>0.463415</td>\n",
              "      <td>0.54</td>\n",
              "      <td>0.0</td>\n",
              "      <td>0</td>\n",
              "      <td>...</td>\n",
              "      <td>0.243285</td>\n",
              "      <td>0.141524</td>\n",
              "      <td>0.230742</td>\n",
              "      <td>0.609988</td>\n",
              "      <td>0.356299</td>\n",
              "      <td>0.334398</td>\n",
              "      <td>0.045464</td>\n",
              "      <td>0.429783</td>\n",
              "      <td>0.503833</td>\n",
              "      <td>0.091779</td>\n",
              "    </tr>\n",
              "    <tr>\n",
              "      <th>8773</th>\n",
              "      <td>3</td>\n",
              "      <td>winner</td>\n",
              "      <td>team1</td>\n",
              "      <td>4.0</td>\n",
              "      <td>3.0</td>\n",
              "      <td>3.0</td>\n",
              "      <td>0.560976</td>\n",
              "      <td>0.48</td>\n",
              "      <td>0.0</td>\n",
              "      <td>0</td>\n",
              "      <td>...</td>\n",
              "      <td>0.261760</td>\n",
              "      <td>0.174473</td>\n",
              "      <td>0.120435</td>\n",
              "      <td>0.764821</td>\n",
              "      <td>0.540289</td>\n",
              "      <td>0.492857</td>\n",
              "      <td>0.113514</td>\n",
              "      <td>0.463891</td>\n",
              "      <td>0.338573</td>\n",
              "      <td>0.482798</td>\n",
              "    </tr>\n",
              "  </tbody>\n",
              "</table>\n",
              "<p>29227 rows × 798 columns</p>\n",
              "</div>\n",
              "      <button class=\"colab-df-convert\" onclick=\"convertToInteractive('df-a1d0b4af-115c-4e04-8ac4-9bbf841b0455')\"\n",
              "              title=\"Convert this dataframe to an interactive table.\"\n",
              "              style=\"display:none;\">\n",
              "        \n",
              "  <svg xmlns=\"http://www.w3.org/2000/svg\" height=\"24px\"viewBox=\"0 0 24 24\"\n",
              "       width=\"24px\">\n",
              "    <path d=\"M0 0h24v24H0V0z\" fill=\"none\"/>\n",
              "    <path d=\"M18.56 5.44l.94 2.06.94-2.06 2.06-.94-2.06-.94-.94-2.06-.94 2.06-2.06.94zm-11 1L8.5 8.5l.94-2.06 2.06-.94-2.06-.94L8.5 2.5l-.94 2.06-2.06.94zm10 10l.94 2.06.94-2.06 2.06-.94-2.06-.94-.94-2.06-.94 2.06-2.06.94z\"/><path d=\"M17.41 7.96l-1.37-1.37c-.4-.4-.92-.59-1.43-.59-.52 0-1.04.2-1.43.59L10.3 9.45l-7.72 7.72c-.78.78-.78 2.05 0 2.83L4 21.41c.39.39.9.59 1.41.59.51 0 1.02-.2 1.41-.59l7.78-7.78 2.81-2.81c.8-.78.8-2.07 0-2.86zM5.41 20L4 18.59l7.72-7.72 1.47 1.35L5.41 20z\"/>\n",
              "  </svg>\n",
              "      </button>\n",
              "      \n",
              "  <style>\n",
              "    .colab-df-container {\n",
              "      display:flex;\n",
              "      flex-wrap:wrap;\n",
              "      gap: 12px;\n",
              "    }\n",
              "\n",
              "    .colab-df-convert {\n",
              "      background-color: #E8F0FE;\n",
              "      border: none;\n",
              "      border-radius: 50%;\n",
              "      cursor: pointer;\n",
              "      display: none;\n",
              "      fill: #1967D2;\n",
              "      height: 32px;\n",
              "      padding: 0 0 0 0;\n",
              "      width: 32px;\n",
              "    }\n",
              "\n",
              "    .colab-df-convert:hover {\n",
              "      background-color: #E2EBFA;\n",
              "      box-shadow: 0px 1px 2px rgba(60, 64, 67, 0.3), 0px 1px 3px 1px rgba(60, 64, 67, 0.15);\n",
              "      fill: #174EA6;\n",
              "    }\n",
              "\n",
              "    [theme=dark] .colab-df-convert {\n",
              "      background-color: #3B4455;\n",
              "      fill: #D2E3FC;\n",
              "    }\n",
              "\n",
              "    [theme=dark] .colab-df-convert:hover {\n",
              "      background-color: #434B5C;\n",
              "      box-shadow: 0px 1px 3px 1px rgba(0, 0, 0, 0.15);\n",
              "      filter: drop-shadow(0px 1px 2px rgba(0, 0, 0, 0.3));\n",
              "      fill: #FFFFFF;\n",
              "    }\n",
              "  </style>\n",
              "\n",
              "      <script>\n",
              "        const buttonEl =\n",
              "          document.querySelector('#df-a1d0b4af-115c-4e04-8ac4-9bbf841b0455 button.colab-df-convert');\n",
              "        buttonEl.style.display =\n",
              "          google.colab.kernel.accessAllowed ? 'block' : 'none';\n",
              "\n",
              "        async function convertToInteractive(key) {\n",
              "          const element = document.querySelector('#df-a1d0b4af-115c-4e04-8ac4-9bbf841b0455');\n",
              "          const dataTable =\n",
              "            await google.colab.kernel.invokeFunction('convertToInteractive',\n",
              "                                                     [key], {});\n",
              "          if (!dataTable) return;\n",
              "\n",
              "          const docLinkHtml = 'Like what you see? Visit the ' +\n",
              "            '<a target=\"_blank\" href=https://colab.research.google.com/notebooks/data_table.ipynb>data table notebook</a>'\n",
              "            + ' to learn more about interactive tables.';\n",
              "          element.innerHTML = '';\n",
              "          dataTable['output_type'] = 'display_data';\n",
              "          await google.colab.output.renderOutput(dataTable, element);\n",
              "          const docLink = document.createElement('div');\n",
              "          docLink.innerHTML = docLinkHtml;\n",
              "          element.appendChild(docLink);\n",
              "        }\n",
              "      </script>\n",
              "    </div>\n",
              "  </div>\n",
              "  "
            ]
          },
          "metadata": {},
          "execution_count": 13
        }
      ]
    },
    {
      "cell_type": "markdown",
      "source": [
        "### Dropping 100% Null Columns"
      ],
      "metadata": {
        "id": "KwgzOd30suDZ"
      }
    },
    {
      "cell_type": "code",
      "source": [
        "for column in combo.select_dtypes('float64').columns.to_list():\n",
        "    if combo[column].isnull().sum()/len(combo) == 1:\n",
        "        combo = combo.drop(column,axis=1)"
      ],
      "metadata": {
        "id": "f_R0qU_tsKQN"
      },
      "execution_count": 14,
      "outputs": []
    },
    {
      "cell_type": "markdown",
      "source": [
        "### Replacing other Null Data Points with Mean "
      ],
      "metadata": {
        "id": "-3pbcbStvAPM"
      }
    },
    {
      "cell_type": "code",
      "source": [
        "for column in combo.select_dtypes('float64').columns.to_list():\n",
        "    if combo[column].isnull().sum() != 0:\n",
        "        combo[column] = combo[column].fillna(combo[column].mean())"
      ],
      "metadata": {
        "id": "tVFYB9D3vIvI"
      },
      "execution_count": 42,
      "outputs": []
    },
    {
      "cell_type": "code",
      "source": [
        "# Replace winner,draw, loser with 1,0,-1 in winner column\n",
        "# Replace team1 with 1 and team2 with zero in team column.\n",
        "\n",
        "#combo['team'] = np.where(combo['team']!= 'team1', 1, 0)\n",
        "#combo['winner'] = np.where(combo['winner']== 'winner', 1, np.where(combo['winner']== 'loser', -1,0 ))"
      ],
      "metadata": {
        "id": "AI397CP00nHN"
      },
      "execution_count": 16,
      "outputs": []
    },
    {
      "cell_type": "markdown",
      "source": [
        "### Quantile Tranformations to Handle Skewed Distributions in the Dataset \n",
        "### We are converting the skewed distribution to a normal distribution\n"
      ],
      "metadata": {
        "id": "aFmFnp1s2TQm"
      }
    },
    {
      "cell_type": "code",
      "source": [
        "from sklearn.preprocessing import QuantileTransformer\n",
        "list1 = [x for x in combo.columns.to_list() if x.startswith('player_general_var')] \n",
        "for column in list1:\n",
        "    transform = QuantileTransformer(output_distribution = 'normal')\n",
        "    combo[column] = transform.fit_transform(combo[column].values.reshape(-1,1)) \n"
      ],
      "metadata": {
        "id": "FgTKWU3h2kId"
      },
      "execution_count": 43,
      "outputs": []
    },
    {
      "cell_type": "code",
      "source": [
        "from sklearn.preprocessing import QuantileTransformer\n",
        "list1 = [x for x in combo.columns.to_list() if x.startswith('player_general_derived_var')] \n",
        "for column in list1:\n",
        "    transform = QuantileTransformer(output_distribution = 'normal')\n",
        "    combo[column] = transform.fit_transform(combo[column].values.reshape(-1,1)) \n"
      ],
      "metadata": {
        "id": "ydz953TFiumM"
      },
      "execution_count": 44,
      "outputs": []
    },
    {
      "cell_type": "code",
      "source": [
        "from sklearn.preprocessing import QuantileTransformer\n",
        "list1 = [x for x in combo.columns.to_list() if x.startswith('player_defensive_ratio_var')] \n",
        "for column in list1:\n",
        "    transform = QuantileTransformer(output_distribution = 'normal')\n",
        "    combo[column] = transform.fit_transform(combo[column].values.reshape(-1,1)) \n"
      ],
      "metadata": {
        "id": "P-QOUptyiupY"
      },
      "execution_count": 45,
      "outputs": []
    },
    {
      "cell_type": "code",
      "source": [
        "from sklearn.preprocessing import QuantileTransformer\n",
        "list1 = [x for x in combo.columns.to_list() if x.startswith('player_defensive_derived_var')] \n",
        "for column in list1:\n",
        "    transform = QuantileTransformer(output_distribution = 'normal')\n",
        "    combo[column] = transform.fit_transform(combo[column].values.reshape(-1,1)) "
      ],
      "metadata": {
        "id": "EeepuIdNius1"
      },
      "execution_count": 46,
      "outputs": []
    },
    {
      "cell_type": "code",
      "source": [
        "from sklearn.preprocessing import QuantileTransformer\n",
        "list1 = [x for x in combo.columns.to_list() if x.startswith('player_offensive_derived_var')] \n",
        "for column in list1:\n",
        "    transform = QuantileTransformer(output_distribution = 'normal')\n",
        "    combo[column] = transform.fit_transform(combo[column].values.reshape(-1,1)) "
      ],
      "metadata": {
        "id": "GbwFZqCViuvr"
      },
      "execution_count": 47,
      "outputs": []
    },
    {
      "cell_type": "code",
      "source": [
        "from sklearn.preprocessing import QuantileTransformer\n",
        "list1 = [x for x in combo.columns.to_list() if x.startswith('player_offensive_ratio_var')] \n",
        "for column in list1:\n",
        "    transform = QuantileTransformer(output_distribution = 'normal')\n",
        "    combo[column] = transform.fit_transform(combo[column].values.reshape(-1,1)) "
      ],
      "metadata": {
        "id": "TOzqsci3iux-"
      },
      "execution_count": 48,
      "outputs": []
    },
    {
      "cell_type": "code",
      "source": [
        "from sklearn.preprocessing import QuantileTransformer\n",
        "list1 = [x for x in combo.columns.to_list() if x.startswith('player_physical_derived_var')] \n",
        "for column in list1:\n",
        "    transform = QuantileTransformer(output_distribution = 'normal')\n",
        "    combo[column] = transform.fit_transform(combo[column].values.reshape(-1,1)) "
      ],
      "metadata": {
        "id": "Zo5ztmtCiu0u"
      },
      "execution_count": 49,
      "outputs": []
    },
    {
      "cell_type": "code",
      "source": [
        "from sklearn.preprocessing import QuantileTransformer\n",
        "list1 = [x for x in combo.columns.to_list() if x.startswith('team1_offensive_ratio_var')] \n",
        "for column in list1:\n",
        "    transform = QuantileTransformer(output_distribution = 'normal')\n",
        "    combo[column] = transform.fit_transform(combo[column].values.reshape(-1,1)) "
      ],
      "metadata": {
        "id": "1O4Z5Fnsiu3J"
      },
      "execution_count": 50,
      "outputs": []
    },
    {
      "cell_type": "code",
      "source": [
        "from sklearn.preprocessing import QuantileTransformer\n",
        "list1 = [x for x in combo.columns.to_list() if x.startswith('team1_offensive_derived_var')] \n",
        "for column in list1:\n",
        "    transform = QuantileTransformer(output_distribution = 'normal')\n",
        "    combo[column] = transform.fit_transform(combo[column].values.reshape(-1,1)) "
      ],
      "metadata": {
        "id": "BD5e0yI7ovlY"
      },
      "execution_count": 51,
      "outputs": []
    },
    {
      "cell_type": "code",
      "source": [
        "from sklearn.preprocessing import QuantileTransformer\n",
        "list1 = [x for x in combo.columns.to_list() if x.startswith('team2_offensive_derived_var')] \n",
        "for column in list1:\n",
        "    transform = QuantileTransformer(output_distribution = 'normal')\n",
        "    combo[column] = transform.fit_transform(combo[column].values.reshape(-1,1)) "
      ],
      "metadata": {
        "id": "CuyjZdIRovsE"
      },
      "execution_count": 52,
      "outputs": []
    },
    {
      "cell_type": "code",
      "source": [
        "from sklearn.preprocessing import QuantileTransformer\n",
        "list1 = [x for x in combo.columns.to_list() if x.startswith('team2_offensive_ratio_var')] \n",
        "for column in list1:\n",
        "    transform = QuantileTransformer(output_distribution = 'normal')\n",
        "    combo[column] = transform.fit_transform(combo[column].values.reshape(-1,1)) "
      ],
      "metadata": {
        "id": "zWyWih1Bovxh"
      },
      "execution_count": 53,
      "outputs": []
    },
    {
      "cell_type": "markdown",
      "source": [
        "### Label Encoding the Multimodial Variables\n",
        "### Add more info and modify code ffs"
      ],
      "metadata": {
        "id": "6tqnV81opVjW"
      }
    },
    {
      "cell_type": "code",
      "source": [
        "l1 = [x for x in combo.columns.to_list() if x.startswith('player_general_raw_var')]\n",
        "for column in l1:\n",
        "    combo[column] = combo[column].astype('object')\n",
        "from sklearn.preprocessing import LabelEncoder\n",
        "for column in l1:\n",
        "    lb = LabelEncoder()\n",
        "    combo[column] = lb.fit_transform(combo[column].values.reshape(-1,1))\n",
        "    \n",
        "    \n",
        "    \n",
        "l2 = [x for x in combo.columns.to_list() if x.startswith('player_defensive_raw_var')]\n",
        "for column in l2:\n",
        "    combo[column] = combo[column].astype('object')\n",
        "from sklearn.preprocessing import LabelEncoder\n",
        "for column in l2:\n",
        "    lb = LabelEncoder()\n",
        "    combo[column] = lb.fit_transform(combo[column].values.reshape(-1,1))\n",
        "    \n",
        "\n",
        "l3 = [x for x in combo.columns.to_list() if x.startswith('player_offensive_raw_var')]\n",
        "for column in l3:\n",
        "    combo[column] = combo[column].astype('object')\n",
        "from sklearn.preprocessing import LabelEncoder\n",
        "for column in l3:\n",
        "    lb = LabelEncoder()\n",
        "    combo[column] = lb.fit_transform(combo[column].values.reshape(-1,1))\n",
        "    \n",
        "    \n",
        "l4 = [x for x in combo.columns.to_list() if x.startswith('team1_offensive_raw_var')]\n",
        "for column in l4:\n",
        "    combo[column] = combo[column].astype('object')\n",
        "from sklearn.preprocessing import LabelEncoder\n",
        "for column in l4:\n",
        "    lb = LabelEncoder()\n",
        "    combo[column] = lb.fit_transform(combo[column].values.reshape(-1,1))\n",
        "    \n",
        "    \n",
        "l5 = [x for x in combo.columns.to_list() if x.startswith('team1_defensive_raw_var')]\n",
        "for column in l5:\n",
        "    combo[column] = combo[column].astype('object')\n",
        "from sklearn.preprocessing import LabelEncoder\n",
        "for column in l5:\n",
        "    lb = LabelEncoder()\n",
        "    combo[column] = lb.fit_transform(combo[column].values.reshape(-1,1))\n",
        "    \n",
        "    \n",
        "l6 = [x for x in combo.columns.to_list() if x.startswith('team2_offensive_raw_var')]\n",
        "for column in l6:\n",
        "    combo[column] = combo[column].astype('object')\n",
        "from sklearn.preprocessing import LabelEncoder\n",
        "for column in l6:\n",
        "    lb = LabelEncoder()\n",
        "    combo[column] = lb.fit_transform(combo[column].values.reshape(-1,1))\n",
        "    \n",
        "    \n",
        "l7 = [x for x in combo.columns.to_list() if x.startswith('team2_defensive_raw_var')]\n",
        "for column in l7:\n",
        "    combo[column] = combo[column].astype('object')\n",
        "from sklearn.preprocessing import LabelEncoder\n",
        "for column in l7:\n",
        "    lb = LabelEncoder()\n",
        "    combo[column] = lb.fit_transform(combo[column].values.reshape(-1,1))"
      ],
      "metadata": {
        "id": "Qi_nY1Uca3o6",
        "colab": {
          "base_uri": "https://localhost:8080/"
        },
        "outputId": "f750df22-7ea0-4a8e-cc61-a3f3de9f8b1e"
      },
      "execution_count": 63,
      "outputs": [
        {
          "output_type": "stream",
          "name": "stderr",
          "text": [
            "/usr/local/lib/python3.7/dist-packages/sklearn/preprocessing/_label.py:115: DataConversionWarning: A column-vector y was passed when a 1d array was expected. Please change the shape of y to (n_samples, ), for example using ravel().\n",
            "  y = column_or_1d(y, warn=True)\n"
          ]
        }
      ]
    },
    {
      "cell_type": "code",
      "source": [
        "category_columns=combo.select_dtypes(include=['object']).columns.tolist()\n",
        "integer_columns=combo.select_dtypes(include=['int64','float64']).columns.tolist()\n",
        "len(category_columns),len(integer_columns)"
      ],
      "metadata": {
        "colab": {
          "base_uri": "https://localhost:8080/"
        },
        "id": "rx65I-Yabqwm",
        "outputId": "05e1dc80-a123-4623-f480-79c535264566"
      },
      "execution_count": 64,
      "outputs": [
        {
          "output_type": "execute_result",
          "data": {
            "text/plain": [
              "(0, 772)"
            ]
          },
          "metadata": {},
          "execution_count": 64
        }
      ]
    },
    {
      "cell_type": "code",
      "source": [
        "from sklearn.preprocessing import LabelEncoder\n",
        "for column in combo.select_dtypes('object').columns.to_list():\n",
        "    lb = LabelEncoder()\n",
        "    combo[column] = lb.fit_transform(combo[column].values.reshape(-1,1))\n",
        "    "
      ],
      "metadata": {
        "id": "rbsPDfKycL7L"
      },
      "execution_count": 56,
      "outputs": []
    },
    {
      "cell_type": "code",
      "source": [
        "category_columns=combo.select_dtypes(include=['object']).columns.tolist()\n",
        "integer_columns=combo.select_dtypes(include=['int64','float64']).columns.tolist()\n",
        "len(category_columns),len(integer_columns)"
      ],
      "metadata": {
        "colab": {
          "base_uri": "https://localhost:8080/"
        },
        "id": "P9c23izrdiJL",
        "outputId": "b321dab0-96c8-4a69-95e0-a6f030059f02"
      },
      "execution_count": 57,
      "outputs": [
        {
          "output_type": "execute_result",
          "data": {
            "text/plain": [
              "(0, 772)"
            ]
          },
          "metadata": {},
          "execution_count": 57
        }
      ]
    },
    {
      "cell_type": "markdown",
      "source": [
        ""
      ],
      "metadata": {
        "id": "j5hfpvMYe2eM"
      }
    },
    {
      "cell_type": "code",
      "source": [
        "#defing category features\n",
        "category_attribs = ['scout_id','winner','team','team1_system_id','team2_system_id','competitionId','player_position_1','player_position_2']\n",
        "category_attribs = category_attribs+l1+l2+l3+l4+l5+l6+l7\n",
        "for column in category_attribs:\n",
        "    combo[column] = combo[column].astype('int64')"
      ],
      "metadata": {
        "id": "MTyMCUkVdj57"
      },
      "execution_count": 73,
      "outputs": []
    },
    {
      "cell_type": "markdown",
      "source": [
        "### Test-Train Split"
      ],
      "metadata": {
        "id": "r-e8c_zQfSLd"
      }
    },
    {
      "cell_type": "code",
      "source": [
        "df_train = combo.head(train.shape[0])\n",
        "df_test = combo.tail(test.shape[0])\n",
        "\n",
        "x = df_train\n",
        "y = train['rating_num']"
      ],
      "metadata": {
        "id": "PzbT7QClfdNE"
      },
      "execution_count": 74,
      "outputs": []
    },
    {
      "cell_type": "code",
      "source": [
        "from sklearn.model_selection import train_test_split\n",
        "x_train , x_test , y_train , y_test = train_test_split(x , y , test_size=0.2 , random_state=101)"
      ],
      "metadata": {
        "id": "eiNSpMP1hPEm"
      },
      "execution_count": 75,
      "outputs": []
    },
    {
      "cell_type": "markdown",
      "source": [
        "# Testing Models"
      ],
      "metadata": {
        "id": "DCXP7ZyoPfNE"
      }
    },
    {
      "cell_type": "markdown",
      "source": [
        "### CATBOOST\n"
      ],
      "metadata": {
        "id": "Lx48KY4mgCy1"
      }
    },
    {
      "cell_type": "code",
      "source": [
        "!pip install catboost"
      ],
      "metadata": {
        "colab": {
          "base_uri": "https://localhost:8080/"
        },
        "id": "ouR8Q0T3Lq8b",
        "outputId": "e89b8de7-f447-4157-a07e-da8556be634f"
      },
      "execution_count": 61,
      "outputs": [
        {
          "output_type": "stream",
          "name": "stdout",
          "text": [
            "Looking in indexes: https://pypi.org/simple, https://us-python.pkg.dev/colab-wheels/public/simple/\n",
            "Requirement already satisfied: catboost in /usr/local/lib/python3.7/dist-packages (1.0.6)\n",
            "Requirement already satisfied: pandas>=0.24.0 in /usr/local/lib/python3.7/dist-packages (from catboost) (1.3.5)\n",
            "Requirement already satisfied: matplotlib in /usr/local/lib/python3.7/dist-packages (from catboost) (3.2.2)\n",
            "Requirement already satisfied: graphviz in /usr/local/lib/python3.7/dist-packages (from catboost) (0.10.1)\n",
            "Requirement already satisfied: numpy>=1.16.0 in /usr/local/lib/python3.7/dist-packages (from catboost) (1.21.6)\n",
            "Requirement already satisfied: six in /usr/local/lib/python3.7/dist-packages (from catboost) (1.15.0)\n",
            "Requirement already satisfied: plotly in /usr/local/lib/python3.7/dist-packages (from catboost) (5.5.0)\n",
            "Requirement already satisfied: scipy in /usr/local/lib/python3.7/dist-packages (from catboost) (1.7.3)\n",
            "Requirement already satisfied: python-dateutil>=2.7.3 in /usr/local/lib/python3.7/dist-packages (from pandas>=0.24.0->catboost) (2.8.2)\n",
            "Requirement already satisfied: pytz>=2017.3 in /usr/local/lib/python3.7/dist-packages (from pandas>=0.24.0->catboost) (2022.1)\n",
            "Requirement already satisfied: kiwisolver>=1.0.1 in /usr/local/lib/python3.7/dist-packages (from matplotlib->catboost) (1.4.4)\n",
            "Requirement already satisfied: pyparsing!=2.0.4,!=2.1.2,!=2.1.6,>=2.0.1 in /usr/local/lib/python3.7/dist-packages (from matplotlib->catboost) (3.0.9)\n",
            "Requirement already satisfied: cycler>=0.10 in /usr/local/lib/python3.7/dist-packages (from matplotlib->catboost) (0.11.0)\n",
            "Requirement already satisfied: typing-extensions in /usr/local/lib/python3.7/dist-packages (from kiwisolver>=1.0.1->matplotlib->catboost) (4.1.1)\n",
            "Requirement already satisfied: tenacity>=6.2.0 in /usr/local/lib/python3.7/dist-packages (from plotly->catboost) (8.0.1)\n"
          ]
        }
      ]
    },
    {
      "cell_type": "code",
      "source": [
        "from catboost import CatBoostRegressor\n",
        "from sklearn.metrics import r2_score\n",
        "\n",
        "cbr = CatBoostRegressor(verbose = False , eval_metric = 'R2',cat_features=category_attribs)\n",
        "cbr.fit(x_train,y_train)\n",
        "\n",
        "preds_valid = cbr.predict(x_test)\n",
        "\n",
        "print('Training Score',r2_score(y_train,cbr.predict(x_train)))\n",
        "print()\n",
        "print('Test Score',r2_score(y_test,cbr.predict(x_test)))\n",
        "\n",
        "feature_importance = cbr.feature_importances_\n",
        "sorted_idx = np.argsort(feature_importance)[-20:]"
      ],
      "metadata": {
        "id": "D8dq6nLipff1",
        "colab": {
          "base_uri": "https://localhost:8080/"
        },
        "outputId": "6e19fd61-2746-4cf0-87ac-5c633fa6122d"
      },
      "execution_count": 76,
      "outputs": [
        {
          "output_type": "stream",
          "name": "stdout",
          "text": [
            "Training Score 0.7296570243815041\n",
            "\n",
            "Test Score 0.36722854930537363\n"
          ]
        }
      ]
    },
    {
      "cell_type": "markdown",
      "source": [
        "### Feature Importance"
      ],
      "metadata": {
        "id": "lRDeEBlxYe_g"
      }
    },
    {
      "cell_type": "code",
      "source": [
        "import matplotlib.pyplot as plt\n",
        "fig = plt.figure(figsize=(12, 6))\n",
        "plt.barh(range(len(sorted_idx)), feature_importance[sorted_idx], align='center')\n",
        "plt.yticks(range(len(sorted_idx)), np.array(x_test.columns)[sorted_idx])\n",
        "plt.title('Feature Importance')"
      ],
      "metadata": {
        "colab": {
          "base_uri": "https://localhost:8080/",
          "height": 407
        },
        "id": "1aIlUY30YiEf",
        "outputId": "c491c191-0c6c-4f2d-fdc5-32905d1ece52"
      },
      "execution_count": 77,
      "outputs": [
        {
          "output_type": "execute_result",
          "data": {
            "text/plain": [
              "Text(0.5, 1.0, 'Feature Importance')"
            ]
          },
          "metadata": {},
          "execution_count": 77
        },
        {
          "output_type": "display_data",
          "data": {
            "text/plain": [
              "<Figure size 864x432 with 1 Axes>"
            ],
            "image/png": "[encoded data removed]"
          },
          "metadata": {
            "needs_background": "light"
          }
        }
      ]
    },
    {
      "cell_type": "markdown",
      "source": [
        "### XGBoost"
      ],
      "metadata": {
        "id": "lvxTbcOifRhV"
      }
    },
    {
      "cell_type": "code",
      "source": [
        "from xgboost import XGBRegressor\n",
        "from sklearn.metrics import r2_score\n",
        "\n",
        "xgb = XGBRegressor(n_estimators = 150)\n",
        "xgb.fit(x_train,y_train)\n",
        "\n",
        "preds_valid = xgb.predict(x_test)\n",
        "\n",
        "print('Training Score',r2_score(y_train,xgb.predict(x_train)))\n",
        "print()\n",
        "print('Test Score',r2_score(y_test,xgb.predict(x_test)))\n",
        "feature_importance = xgb.feature_importances_\n",
        "sorted_idx = np.argsort(feature_importance)[-20:]"
      ],
      "metadata": {
        "colab": {
          "base_uri": "https://localhost:8080/"
        },
        "id": "2C5cxzG8fT7b",
        "outputId": "82de8f2e-7e38-4302-a5a4-d8ff7bb160da"
      },
      "execution_count": 79,
      "outputs": [
        {
          "output_type": "stream",
          "name": "stdout",
          "text": [
            "[17:18:48] WARNING: /workspace/src/objective/regression_obj.cu:152: reg:linear is now deprecated in favor of reg:squarederror.\n",
            "Training Score 0.317811625117539\n",
            "\n",
            "Test Score 0.2202232731488305\n"
          ]
        }
      ]
    },
    {
      "cell_type": "code",
      "source": [
        "import matplotlib.pyplot as plt\n",
        "fig = plt.figure(figsize=(12, 6))\n",
        "plt.barh(range(len(sorted_idx)), feature_importance[sorted_idx], align='center')\n",
        "plt.yticks(range(len(sorted_idx)), np.array(x_test.columns)[sorted_idx])\n",
        "plt.title('Feature Importance')"
      ],
      "metadata": {
        "colab": {
          "base_uri": "https://localhost:8080/",
          "height": 407
        },
        "id": "CXdbGSFUhrDb",
        "outputId": "9bfc72f3-cdb0-41a3-b99b-c4ef62143208"
      },
      "execution_count": 80,
      "outputs": [
        {
          "output_type": "execute_result",
          "data": {
            "text/plain": [
              "Text(0.5, 1.0, 'Feature Importance')"
            ]
          },
          "metadata": {},
          "execution_count": 80
        },
        {
          "output_type": "display_data",
          "data": {
            "text/plain": [
              "<Figure size 864x432 with 1 Axes>"
            ],
            "image/png": "[encoded data removed]"
          },
          "metadata": {
            "needs_background": "light"
          }
        }
      ]
    },
    {
      "cell_type": "code",
      "source": [
        "import lightgbm as lgb\n",
        "from sklearn.metrics import r2_score\n",
        "\n",
        "lgbr = lgb.LGBMRegressor(n_estimators = 150)\n",
        "lgbr.fit(x_train,y_train)\n",
        "\n",
        "preds_valid = lgbr.predict(x_test)\n",
        "\n",
        "print('Training Score',r2_score(y_train,lgbr.predict(x_train)))\n",
        "print()\n",
        "print('Test Score',r2_score(y_test,lgbr.predict(x_test)))\n",
        "feature_importance = lgbr.feature_importances_\n",
        "sorted_idx = np.argsort(feature_importance)[-20:]"
      ],
      "metadata": {
        "colab": {
          "base_uri": "https://localhost:8080/"
        },
        "id": "WaHY-15z0HfZ",
        "outputId": "305dc3af-1141-40fb-fdf5-3ffa07c35e60"
      },
      "execution_count": 83,
      "outputs": [
        {
          "output_type": "stream",
          "name": "stdout",
          "text": [
            "Training Score 0.6594764446521365\n",
            "\n",
            "Test Score 0.31644942818233446\n"
          ]
        }
      ]
    },
    {
      "cell_type": "code",
      "source": [
        "import matplotlib.pyplot as plt\n",
        "fig = plt.figure(figsize=(12, 6))\n",
        "plt.barh(range(len(sorted_idx)), feature_importance[sorted_idx], align='center')\n",
        "plt.yticks(range(len(sorted_idx)), np.array(x_test.columns)[sorted_idx])\n",
        "plt.title('Feature Importance')"
      ],
      "metadata": {
        "colab": {
          "base_uri": "https://localhost:8080/",
          "height": 407
        },
        "id": "seP9GkZJ4_Zb",
        "outputId": "029ea053-a6d9-471a-8433-a543a8b8480f"
      },
      "execution_count": 84,
      "outputs": [
        {
          "output_type": "execute_result",
          "data": {
            "text/plain": [
              "Text(0.5, 1.0, 'Feature Importance')"
            ]
          },
          "metadata": {},
          "execution_count": 84
        },
        {
          "output_type": "display_data",
          "data": {
            "text/plain": [
              "<Figure size 864x432 with 1 Axes>"
            ],
            "image/png": "[encoded data removed]"
          },
          "metadata": {
            "needs_background": "light"
          }
        }
      ]
    },
    {
      "cell_type": "markdown",
      "source": [
        "# Output"
      ],
      "metadata": {
        "id": "7COPJIEZPz1-"
      }
    }
  ]
}